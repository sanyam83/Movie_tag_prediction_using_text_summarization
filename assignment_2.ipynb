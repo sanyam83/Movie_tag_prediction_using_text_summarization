{
  "nbformat": 4,
  "nbformat_minor": 0,
  "metadata": {
    "colab": {
      "name": "assignment 2",
      "provenance": [],
      "collapsed_sections": []
    },
    "kernelspec": {
      "name": "python3",
      "display_name": "Python 3"
    }
  },
  "cells": [
    {
      "cell_type": "code",
      "metadata": {
        "id": "nJTuwZ9itJJi",
        "outputId": "01e05d76-af0e-45f1-d7c3-7c6402502bc8",
        "colab": {
          "base_uri": "https://localhost:8080/",
          "height": 34
        }
      },
      "source": [
        "from google.colab import drive\n",
        "drive.mount('/content/drive')"
      ],
      "execution_count": 1,
      "outputs": [
        {
          "output_type": "stream",
          "text": [
            "Mounted at /content/drive\n"
          ],
          "name": "stdout"
        }
      ]
    },
    {
      "cell_type": "code",
      "metadata": {
        "id": "m18NihhuvGhS",
        "outputId": "12e664c4-4881-4693-8355-b6e2172a7636",
        "colab": {
          "base_uri": "https://localhost:8080/",
          "height": 51
        }
      },
      "source": [
        "#importing libraries\n",
        "import pandas as pd\n",
        "import numpy as np\n",
        "import matplotlib.pyplot as plt\n",
        "%matplotlib inline\n",
        "import warnings\n",
        "warnings.filterwarnings('ignore')\n",
        "import seaborn as sns\n",
        "plt.style.use('ggplot')\n",
        "import re\n",
        "import nltk\n",
        "nltk.download('stopwords')\n",
        "from nltk.util import ngrams\n",
        "from nltk.corpus import stopwords\n",
        "stop=set(stopwords.words('english'))\n",
        "from sklearn.feature_extraction.text import CountVectorizer, TfidfVectorizer\n",
        "from collections import defaultdict\n",
        "from collections import  Counter\n",
        "from sklearn.model_selection import train_test_split\n",
        "import keras\n",
        "import tensorflow as tf\n",
        "from keras.models import Sequential\n",
        "from keras.initializers import Constant\n",
        "from keras.layers import (LSTM, \n",
        "                          Embedding, \n",
        "                          BatchNormalization,\n",
        "                          Dense, \n",
        "                          TimeDistributed, \n",
        "                          Dropout, \n",
        "                          Bidirectional,\n",
        "                          Flatten, \n",
        "                          GlobalMaxPool1D)\n",
        "from nltk.tokenize import word_tokenize\n",
        "from keras.preprocessing.text import Tokenizer\n",
        "from keras.preprocessing.sequence import pad_sequences\n",
        "from keras.layers.embeddings import Embedding\n",
        "from keras.callbacks import ModelCheckpoint, ReduceLROnPlateau\n",
        "from keras.optimizers import Adam\n",
        "from sklearn.metrics import (\n",
        "    precision_score, \n",
        "    recall_score, \n",
        "    f1_score, \n",
        "    classification_report,\n",
        "    accuracy_score\n",
        ")"
      ],
      "execution_count": 2,
      "outputs": [
        {
          "output_type": "stream",
          "text": [
            "[nltk_data] Downloading package stopwords to /root/nltk_data...\n",
            "[nltk_data]   Unzipping corpora/stopwords.zip.\n"
          ],
          "name": "stdout"
        }
      ]
    },
    {
      "cell_type": "code",
      "metadata": {
        "id": "eh3m0fgyxKyu"
      },
      "source": [
        "movies = pd.read_csv(\"/content/drive/My Drive/movie.csv\")\n",
        "genome_scores = pd.read_csv(\"/content/drive/My Drive/genome_scores.csv\")\n",
        "genome_tags = pd.read_csv(\"/content/drive/My Drive/genome_tags.csv\")\n",
        "plot = pd.read_csv(\"/content/drive/My Drive/wiki_movie_plots_deduped.csv\")\n",
        "reviews = pd.read_csv(\"/content/drive/My Drive/metacritic_reviews.csv\")"
      ],
      "execution_count": 12,
      "outputs": []
    },
    {
      "cell_type": "code",
      "metadata": {
        "id": "eGslWtCbxLkV"
      },
      "source": [
        "plot.rename(columns={'Title': 'title'}, inplace=True)"
      ],
      "execution_count": 13,
      "outputs": []
    },
    {
      "cell_type": "code",
      "metadata": {
        "id": "yoW5XyxDxQ0y",
        "outputId": "fdc5735b-9255-4dae-aa91-6919dd95cda2",
        "colab": {
          "base_uri": "https://localhost:8080/",
          "height": 419
        }
      },
      "source": [
        "movies"
      ],
      "execution_count": 14,
      "outputs": [
        {
          "output_type": "execute_result",
          "data": {
            "text/html": [
              "<div>\n",
              "<style scoped>\n",
              "    .dataframe tbody tr th:only-of-type {\n",
              "        vertical-align: middle;\n",
              "    }\n",
              "\n",
              "    .dataframe tbody tr th {\n",
              "        vertical-align: top;\n",
              "    }\n",
              "\n",
              "    .dataframe thead th {\n",
              "        text-align: right;\n",
              "    }\n",
              "</style>\n",
              "<table border=\"1\" class=\"dataframe\">\n",
              "  <thead>\n",
              "    <tr style=\"text-align: right;\">\n",
              "      <th></th>\n",
              "      <th>movieId</th>\n",
              "      <th>title</th>\n",
              "      <th>genres</th>\n",
              "    </tr>\n",
              "  </thead>\n",
              "  <tbody>\n",
              "    <tr>\n",
              "      <th>0</th>\n",
              "      <td>1</td>\n",
              "      <td>Toy Story (1995)</td>\n",
              "      <td>Adventure|Animation|Children|Comedy|Fantasy</td>\n",
              "    </tr>\n",
              "    <tr>\n",
              "      <th>1</th>\n",
              "      <td>2</td>\n",
              "      <td>Jumanji (1995)</td>\n",
              "      <td>Adventure|Children|Fantasy</td>\n",
              "    </tr>\n",
              "    <tr>\n",
              "      <th>2</th>\n",
              "      <td>3</td>\n",
              "      <td>Grumpier Old Men (1995)</td>\n",
              "      <td>Comedy|Romance</td>\n",
              "    </tr>\n",
              "    <tr>\n",
              "      <th>3</th>\n",
              "      <td>4</td>\n",
              "      <td>Waiting to Exhale (1995)</td>\n",
              "      <td>Comedy|Drama|Romance</td>\n",
              "    </tr>\n",
              "    <tr>\n",
              "      <th>4</th>\n",
              "      <td>5</td>\n",
              "      <td>Father of the Bride Part II (1995)</td>\n",
              "      <td>Comedy</td>\n",
              "    </tr>\n",
              "    <tr>\n",
              "      <th>...</th>\n",
              "      <td>...</td>\n",
              "      <td>...</td>\n",
              "      <td>...</td>\n",
              "    </tr>\n",
              "    <tr>\n",
              "      <th>27273</th>\n",
              "      <td>131254</td>\n",
              "      <td>Kein Bund für's Leben (2007)</td>\n",
              "      <td>Comedy</td>\n",
              "    </tr>\n",
              "    <tr>\n",
              "      <th>27274</th>\n",
              "      <td>131256</td>\n",
              "      <td>Feuer, Eis &amp; Dosenbier (2002)</td>\n",
              "      <td>Comedy</td>\n",
              "    </tr>\n",
              "    <tr>\n",
              "      <th>27275</th>\n",
              "      <td>131258</td>\n",
              "      <td>The Pirates (2014)</td>\n",
              "      <td>Adventure</td>\n",
              "    </tr>\n",
              "    <tr>\n",
              "      <th>27276</th>\n",
              "      <td>131260</td>\n",
              "      <td>Rentun Ruusu (2001)</td>\n",
              "      <td>(no genres listed)</td>\n",
              "    </tr>\n",
              "    <tr>\n",
              "      <th>27277</th>\n",
              "      <td>131262</td>\n",
              "      <td>Innocence (2014)</td>\n",
              "      <td>Adventure|Fantasy|Horror</td>\n",
              "    </tr>\n",
              "  </tbody>\n",
              "</table>\n",
              "<p>27278 rows × 3 columns</p>\n",
              "</div>"
            ],
            "text/plain": [
              "       movieId                               title                                       genres\n",
              "0            1                    Toy Story (1995)  Adventure|Animation|Children|Comedy|Fantasy\n",
              "1            2                      Jumanji (1995)                   Adventure|Children|Fantasy\n",
              "2            3             Grumpier Old Men (1995)                               Comedy|Romance\n",
              "3            4            Waiting to Exhale (1995)                         Comedy|Drama|Romance\n",
              "4            5  Father of the Bride Part II (1995)                                       Comedy\n",
              "...        ...                                 ...                                          ...\n",
              "27273   131254        Kein Bund für's Leben (2007)                                       Comedy\n",
              "27274   131256       Feuer, Eis & Dosenbier (2002)                                       Comedy\n",
              "27275   131258                  The Pirates (2014)                                    Adventure\n",
              "27276   131260                 Rentun Ruusu (2001)                           (no genres listed)\n",
              "27277   131262                    Innocence (2014)                     Adventure|Fantasy|Horror\n",
              "\n",
              "[27278 rows x 3 columns]"
            ]
          },
          "metadata": {
            "tags": []
          },
          "execution_count": 14
        }
      ]
    },
    {
      "cell_type": "code",
      "metadata": {
        "id": "HuyA1i6nxSNd"
      },
      "source": [
        "movies['title'] = movies['title'].str.replace(r\"\\(.*\\)\",\"\")"
      ],
      "execution_count": 15,
      "outputs": []
    },
    {
      "cell_type": "code",
      "metadata": {
        "id": "BkbPtvF_xkGP"
      },
      "source": [
        "movies['title'] = movies['title'].str.rstrip()"
      ],
      "execution_count": 16,
      "outputs": []
    },
    {
      "cell_type": "code",
      "metadata": {
        "id": "IEnsvI7Vxk2Y"
      },
      "source": [
        "df = pd.merge(movies, plot ,  how='left', left_on='title', right_on='title')"
      ],
      "execution_count": 17,
      "outputs": []
    },
    {
      "cell_type": "code",
      "metadata": {
        "id": "Jq6ZzZs1xkek"
      },
      "source": [
        "df = df[df['Plot'].notna()]"
      ],
      "execution_count": 18,
      "outputs": []
    },
    {
      "cell_type": "code",
      "metadata": {
        "id": "pvlFLdz2xkVs"
      },
      "source": [
        "df = df.reset_index()"
      ],
      "execution_count": 19,
      "outputs": []
    },
    {
      "cell_type": "code",
      "metadata": {
        "id": "aemW9o96xkA_",
        "outputId": "984e5275-3998-48e5-cee2-f0fd360a0cf9",
        "colab": {
          "base_uri": "https://localhost:8080/",
          "height": 1000
        }
      },
      "source": [
        "df"
      ],
      "execution_count": 20,
      "outputs": [
        {
          "output_type": "execute_result",
          "data": {
            "text/html": [
              "<div>\n",
              "<style scoped>\n",
              "    .dataframe tbody tr th:only-of-type {\n",
              "        vertical-align: middle;\n",
              "    }\n",
              "\n",
              "    .dataframe tbody tr th {\n",
              "        vertical-align: top;\n",
              "    }\n",
              "\n",
              "    .dataframe thead th {\n",
              "        text-align: right;\n",
              "    }\n",
              "</style>\n",
              "<table border=\"1\" class=\"dataframe\">\n",
              "  <thead>\n",
              "    <tr style=\"text-align: right;\">\n",
              "      <th></th>\n",
              "      <th>index</th>\n",
              "      <th>movieId</th>\n",
              "      <th>title</th>\n",
              "      <th>genres</th>\n",
              "      <th>Release Year</th>\n",
              "      <th>Origin/Ethnicity</th>\n",
              "      <th>Director</th>\n",
              "      <th>Cast</th>\n",
              "      <th>Genre</th>\n",
              "      <th>Wiki Page</th>\n",
              "      <th>Plot</th>\n",
              "    </tr>\n",
              "  </thead>\n",
              "  <tbody>\n",
              "    <tr>\n",
              "      <th>0</th>\n",
              "      <td>0</td>\n",
              "      <td>1</td>\n",
              "      <td>Toy Story</td>\n",
              "      <td>Adventure|Animation|Children|Comedy|Fantasy</td>\n",
              "      <td>1995.0</td>\n",
              "      <td>American</td>\n",
              "      <td>John Lasseter</td>\n",
              "      <td>Tim Allen, Tom Hanks (voices)</td>\n",
              "      <td>animated film</td>\n",
              "      <td>https://en.wikipedia.org/wiki/Toy_Story</td>\n",
              "      <td>In a world where toys are living things who pr...</td>\n",
              "    </tr>\n",
              "    <tr>\n",
              "      <th>1</th>\n",
              "      <td>1</td>\n",
              "      <td>2</td>\n",
              "      <td>Jumanji</td>\n",
              "      <td>Adventure|Children|Fantasy</td>\n",
              "      <td>1995.0</td>\n",
              "      <td>American</td>\n",
              "      <td>Joe Johnston</td>\n",
              "      <td>Robin Williams, Bonnie Hunt, Kirsten Dunst, Br...</td>\n",
              "      <td>family, fantasy</td>\n",
              "      <td>https://en.wikipedia.org/wiki/Jumanji_(film)</td>\n",
              "      <td>In 1869, near Brantford, New Hampshire, two br...</td>\n",
              "    </tr>\n",
              "    <tr>\n",
              "      <th>2</th>\n",
              "      <td>2</td>\n",
              "      <td>3</td>\n",
              "      <td>Grumpier Old Men</td>\n",
              "      <td>Comedy|Romance</td>\n",
              "      <td>1995.0</td>\n",
              "      <td>American</td>\n",
              "      <td>Howard Deutch</td>\n",
              "      <td>Jack Lemmon, Walter Matthau, Ann-Margret, Soph...</td>\n",
              "      <td>comedy</td>\n",
              "      <td>https://en.wikipedia.org/wiki/Grumpier_Old_Men</td>\n",
              "      <td>The feud between Max (Walter Matthau) and John...</td>\n",
              "    </tr>\n",
              "    <tr>\n",
              "      <th>3</th>\n",
              "      <td>3</td>\n",
              "      <td>4</td>\n",
              "      <td>Waiting to Exhale</td>\n",
              "      <td>Comedy|Drama|Romance</td>\n",
              "      <td>1995.0</td>\n",
              "      <td>American</td>\n",
              "      <td>Forest Whitaker</td>\n",
              "      <td>Whitney Houston, Angela Bassett, Loretta Devin...</td>\n",
              "      <td>drama</td>\n",
              "      <td>https://en.wikipedia.org/wiki/Waiting_to_Exhale</td>\n",
              "      <td>\"Friends are the People who let you be yoursel...</td>\n",
              "    </tr>\n",
              "    <tr>\n",
              "      <th>4</th>\n",
              "      <td>4</td>\n",
              "      <td>5</td>\n",
              "      <td>Father of the Bride Part II</td>\n",
              "      <td>Comedy</td>\n",
              "      <td>1995.0</td>\n",
              "      <td>American</td>\n",
              "      <td>Charles Shyer</td>\n",
              "      <td>Steve Martin, Diane Keaton, Martin Short, Kimb...</td>\n",
              "      <td>comedy</td>\n",
              "      <td>https://en.wikipedia.org/wiki/Father_of_the_Br...</td>\n",
              "      <td>The film begins five years after the events of...</td>\n",
              "    </tr>\n",
              "    <tr>\n",
              "      <th>...</th>\n",
              "      <td>...</td>\n",
              "      <td>...</td>\n",
              "      <td>...</td>\n",
              "      <td>...</td>\n",
              "      <td>...</td>\n",
              "      <td>...</td>\n",
              "      <td>...</td>\n",
              "      <td>...</td>\n",
              "      <td>...</td>\n",
              "      <td>...</td>\n",
              "      <td>...</td>\n",
              "    </tr>\n",
              "    <tr>\n",
              "      <th>11988</th>\n",
              "      <td>29222</td>\n",
              "      <td>131152</td>\n",
              "      <td>The Fat Spy</td>\n",
              "      <td>Comedy</td>\n",
              "      <td>1966.0</td>\n",
              "      <td>American</td>\n",
              "      <td>Joseph Cates</td>\n",
              "      <td>Phyllis Diller, Jack E. Leonard, Brian Donlevy...</td>\n",
              "      <td>comedy</td>\n",
              "      <td>https://en.wikipedia.org/wiki/The_Fat_Spy</td>\n",
              "      <td>A mostly-deserted island, which is believed to...</td>\n",
              "    </tr>\n",
              "    <tr>\n",
              "      <th>11989</th>\n",
              "      <td>29230</td>\n",
              "      <td>131168</td>\n",
              "      <td>Phoenix</td>\n",
              "      <td>Drama</td>\n",
              "      <td>1998.0</td>\n",
              "      <td>American</td>\n",
              "      <td>Danny Cannon</td>\n",
              "      <td>Ray Liotta, Anjelica Huston, Anthony LaPaglia,...</td>\n",
              "      <td>crime</td>\n",
              "      <td>https://en.wikipedia.org/wiki/Phoenix_(1998_film)</td>\n",
              "      <td>In Phoenix, Arizona, Harry Collins is a cop wh...</td>\n",
              "    </tr>\n",
              "    <tr>\n",
              "      <th>11990</th>\n",
              "      <td>29235</td>\n",
              "      <td>131180</td>\n",
              "      <td>Dead Rising: Watchtower</td>\n",
              "      <td>Action|Horror|Thriller</td>\n",
              "      <td>2015.0</td>\n",
              "      <td>Canadian</td>\n",
              "      <td>Zach Lipovsky</td>\n",
              "      <td>Jesse Metcalfe, Dennis Haysbert, Virginia Madsen</td>\n",
              "      <td>zombie horror</td>\n",
              "      <td>https://en.wikipedia.org/wiki/Dead_Rising:_Wat...</td>\n",
              "      <td>Set between the events of Dead Rising 2 and De...</td>\n",
              "    </tr>\n",
              "    <tr>\n",
              "      <th>11991</th>\n",
              "      <td>29237</td>\n",
              "      <td>131237</td>\n",
              "      <td>What Men Talk About</td>\n",
              "      <td>Comedy</td>\n",
              "      <td>2010.0</td>\n",
              "      <td>Russian</td>\n",
              "      <td>Dmitry Dyashchenko</td>\n",
              "      <td>NaN</td>\n",
              "      <td>comedy</td>\n",
              "      <td>https://en.wikipedia.org/wiki/What_Men_Talk_About</td>\n",
              "      <td>What Men Talk About? Of course, women. But als...</td>\n",
              "    </tr>\n",
              "    <tr>\n",
              "      <th>11992</th>\n",
              "      <td>29246</td>\n",
              "      <td>131258</td>\n",
              "      <td>The Pirates</td>\n",
              "      <td>Adventure</td>\n",
              "      <td>2014.0</td>\n",
              "      <td>South_Korean</td>\n",
              "      <td>Lee Seok-hoon</td>\n",
              "      <td>Kim Nam-gil, Son Ye-jin</td>\n",
              "      <td>unknown</td>\n",
              "      <td>https://en.wikipedia.org/wiki/The_Pirates_(201...</td>\n",
              "      <td>On the eve of the founding of the Joseon Dynas...</td>\n",
              "    </tr>\n",
              "  </tbody>\n",
              "</table>\n",
              "<p>11993 rows × 11 columns</p>\n",
              "</div>"
            ],
            "text/plain": [
              "       index  movieId                        title                                       genres  Release Year Origin/Ethnicity            Director                                               Cast            Genre                                          Wiki Page                                               Plot\n",
              "0          0        1                    Toy Story  Adventure|Animation|Children|Comedy|Fantasy        1995.0         American       John Lasseter                      Tim Allen, Tom Hanks (voices)    animated film            https://en.wikipedia.org/wiki/Toy_Story  In a world where toys are living things who pr...\n",
              "1          1        2                      Jumanji                   Adventure|Children|Fantasy        1995.0         American        Joe Johnston  Robin Williams, Bonnie Hunt, Kirsten Dunst, Br...  family, fantasy       https://en.wikipedia.org/wiki/Jumanji_(film)  In 1869, near Brantford, New Hampshire, two br...\n",
              "2          2        3             Grumpier Old Men                               Comedy|Romance        1995.0         American       Howard Deutch  Jack Lemmon, Walter Matthau, Ann-Margret, Soph...           comedy     https://en.wikipedia.org/wiki/Grumpier_Old_Men  The feud between Max (Walter Matthau) and John...\n",
              "3          3        4            Waiting to Exhale                         Comedy|Drama|Romance        1995.0         American     Forest Whitaker  Whitney Houston, Angela Bassett, Loretta Devin...            drama    https://en.wikipedia.org/wiki/Waiting_to_Exhale  \"Friends are the People who let you be yoursel...\n",
              "4          4        5  Father of the Bride Part II                                       Comedy        1995.0         American       Charles Shyer  Steve Martin, Diane Keaton, Martin Short, Kimb...           comedy  https://en.wikipedia.org/wiki/Father_of_the_Br...  The film begins five years after the events of...\n",
              "...      ...      ...                          ...                                          ...           ...              ...                 ...                                                ...              ...                                                ...                                                ...\n",
              "11988  29222   131152                  The Fat Spy                                       Comedy        1966.0         American        Joseph Cates  Phyllis Diller, Jack E. Leonard, Brian Donlevy...           comedy          https://en.wikipedia.org/wiki/The_Fat_Spy  A mostly-deserted island, which is believed to...\n",
              "11989  29230   131168                      Phoenix                                        Drama        1998.0         American        Danny Cannon  Ray Liotta, Anjelica Huston, Anthony LaPaglia,...            crime  https://en.wikipedia.org/wiki/Phoenix_(1998_film)  In Phoenix, Arizona, Harry Collins is a cop wh...\n",
              "11990  29235   131180      Dead Rising: Watchtower                       Action|Horror|Thriller        2015.0         Canadian       Zach Lipovsky   Jesse Metcalfe, Dennis Haysbert, Virginia Madsen    zombie horror  https://en.wikipedia.org/wiki/Dead_Rising:_Wat...  Set between the events of Dead Rising 2 and De...\n",
              "11991  29237   131237          What Men Talk About                                       Comedy        2010.0          Russian  Dmitry Dyashchenko                                                NaN           comedy  https://en.wikipedia.org/wiki/What_Men_Talk_About  What Men Talk About? Of course, women. But als...\n",
              "11992  29246   131258                  The Pirates                                    Adventure        2014.0     South_Korean       Lee Seok-hoon                            Kim Nam-gil, Son Ye-jin          unknown  https://en.wikipedia.org/wiki/The_Pirates_(201...  On the eve of the founding of the Joseon Dynas...\n",
              "\n",
              "[11993 rows x 11 columns]"
            ]
          },
          "metadata": {
            "tags": []
          },
          "execution_count": 20
        }
      ]
    },
    {
      "cell_type": "code",
      "metadata": {
        "id": "IgkL6Z01xsL8",
        "outputId": "1d1c379a-c288-4219-f551-9dc6f159de44",
        "colab": {
          "base_uri": "https://localhost:8080/",
          "height": 419
        }
      },
      "source": [
        "reviews"
      ],
      "execution_count": 21,
      "outputs": [
        {
          "output_type": "execute_result",
          "data": {
            "text/html": [
              "<div>\n",
              "<style scoped>\n",
              "    .dataframe tbody tr th:only-of-type {\n",
              "        vertical-align: middle;\n",
              "    }\n",
              "\n",
              "    .dataframe tbody tr th {\n",
              "        vertical-align: top;\n",
              "    }\n",
              "\n",
              "    .dataframe thead th {\n",
              "        text-align: right;\n",
              "    }\n",
              "</style>\n",
              "<table border=\"1\" class=\"dataframe\">\n",
              "  <thead>\n",
              "    <tr style=\"text-align: right;\">\n",
              "      <th></th>\n",
              "      <th>critic_name</th>\n",
              "      <th>media</th>\n",
              "      <th>title</th>\n",
              "      <th>review_date</th>\n",
              "      <th>individual_meta_score</th>\n",
              "      <th>text</th>\n",
              "    </tr>\n",
              "  </thead>\n",
              "  <tbody>\n",
              "    <tr>\n",
              "      <th>0</th>\n",
              "      <td>M. E. Russell</td>\n",
              "      <td>Portland Oregonian</td>\n",
              "      <td>Hustle &amp; Flow</td>\n",
              "      <td>NaN</td>\n",
              "      <td>100</td>\n",
              "      <td>The writing, acting and filmmaking make Hustle...</td>\n",
              "    </tr>\n",
              "    <tr>\n",
              "      <th>1</th>\n",
              "      <td>Owen Gleiberman</td>\n",
              "      <td>Entertainment Weekly</td>\n",
              "      <td>Hustle &amp; Flow</td>\n",
              "      <td>NaN</td>\n",
              "      <td>91</td>\n",
              "      <td>The home-studio recording sequences in Hustle ...</td>\n",
              "    </tr>\n",
              "    <tr>\n",
              "      <th>2</th>\n",
              "      <td>Ann Hornaday</td>\n",
              "      <td>Washington Post</td>\n",
              "      <td>Hustle &amp; Flow</td>\n",
              "      <td>NaN</td>\n",
              "      <td>90</td>\n",
              "      <td>The performances are accomplished, but the rea...</td>\n",
              "    </tr>\n",
              "    <tr>\n",
              "      <th>3</th>\n",
              "      <td>Stephanie Zacharek</td>\n",
              "      <td>Salon</td>\n",
              "      <td>Hustle &amp; Flow</td>\n",
              "      <td>NaN</td>\n",
              "      <td>90</td>\n",
              "      <td>In a world of movies that try far too hard to ...</td>\n",
              "    </tr>\n",
              "    <tr>\n",
              "      <th>4</th>\n",
              "      <td>Jami Bernard</td>\n",
              "      <td>New York Daily News</td>\n",
              "      <td>Hustle &amp; Flow</td>\n",
              "      <td>NaN</td>\n",
              "      <td>88</td>\n",
              "      <td>The feel-good movie of the summer. And the son...</td>\n",
              "    </tr>\n",
              "    <tr>\n",
              "      <th>...</th>\n",
              "      <td>...</td>\n",
              "      <td>...</td>\n",
              "      <td>...</td>\n",
              "      <td>...</td>\n",
              "      <td>...</td>\n",
              "      <td>...</td>\n",
              "    </tr>\n",
              "    <tr>\n",
              "      <th>246950</th>\n",
              "      <td>John Patterson</td>\n",
              "      <td>L.A. Weekly</td>\n",
              "      <td>The Quiet American</td>\n",
              "      <td>NaN</td>\n",
              "      <td>70</td>\n",
              "      <td>Noyce has made a good-looking, intelligent sta...</td>\n",
              "    </tr>\n",
              "    <tr>\n",
              "      <th>246951</th>\n",
              "      <td>Rick Groen</td>\n",
              "      <td>The Globe and Mail (Toronto)</td>\n",
              "      <td>The Quiet American</td>\n",
              "      <td>NaN</td>\n",
              "      <td>63</td>\n",
              "      <td>The result is a rarity on the modern screen --...</td>\n",
              "    </tr>\n",
              "    <tr>\n",
              "      <th>246952</th>\n",
              "      <td>Jonathan Foreman</td>\n",
              "      <td>New York Post</td>\n",
              "      <td>The Quiet American</td>\n",
              "      <td>NaN</td>\n",
              "      <td>63</td>\n",
              "      <td>It's a shame that, on top of everything else, ...</td>\n",
              "    </tr>\n",
              "    <tr>\n",
              "      <th>246953</th>\n",
              "      <td>Jami Bernard</td>\n",
              "      <td>New York Daily News</td>\n",
              "      <td>The Quiet American</td>\n",
              "      <td>NaN</td>\n",
              "      <td>50</td>\n",
              "      <td>The movie adds nothing to the political dialog...</td>\n",
              "    </tr>\n",
              "    <tr>\n",
              "      <th>246954</th>\n",
              "      <td>Stanley Kauffmann</td>\n",
              "      <td>The New Republic</td>\n",
              "      <td>The Quiet American</td>\n",
              "      <td>NaN</td>\n",
              "      <td>30</td>\n",
              "      <td>As is frequently the case when there is public...</td>\n",
              "    </tr>\n",
              "  </tbody>\n",
              "</table>\n",
              "<p>246955 rows × 6 columns</p>\n",
              "</div>"
            ],
            "text/plain": [
              "               critic_name                         media               title review_date  individual_meta_score                                               text\n",
              "0            M. E. Russell            Portland Oregonian       Hustle & Flow         NaN                    100  The writing, acting and filmmaking make Hustle...\n",
              "1          Owen Gleiberman          Entertainment Weekly       Hustle & Flow         NaN                     91  The home-studio recording sequences in Hustle ...\n",
              "2             Ann Hornaday               Washington Post       Hustle & Flow         NaN                     90  The performances are accomplished, but the rea...\n",
              "3       Stephanie Zacharek                         Salon       Hustle & Flow         NaN                     90  In a world of movies that try far too hard to ...\n",
              "4             Jami Bernard           New York Daily News       Hustle & Flow         NaN                     88  The feel-good movie of the summer. And the son...\n",
              "...                    ...                           ...                 ...         ...                    ...                                                ...\n",
              "246950      John Patterson                   L.A. Weekly  The Quiet American         NaN                     70  Noyce has made a good-looking, intelligent sta...\n",
              "246951          Rick Groen  The Globe and Mail (Toronto)  The Quiet American         NaN                     63  The result is a rarity on the modern screen --...\n",
              "246952    Jonathan Foreman                 New York Post  The Quiet American         NaN                     63  It's a shame that, on top of everything else, ...\n",
              "246953        Jami Bernard           New York Daily News  The Quiet American         NaN                     50  The movie adds nothing to the political dialog...\n",
              "246954   Stanley Kauffmann              The New Republic  The Quiet American         NaN                     30  As is frequently the case when there is public...\n",
              "\n",
              "[246955 rows x 6 columns]"
            ]
          },
          "metadata": {
            "tags": []
          },
          "execution_count": 21
        }
      ]
    },
    {
      "cell_type": "code",
      "metadata": {
        "id": "cw7Sx1mixsde"
      },
      "source": [
        "reviews = reviews.astype(str) "
      ],
      "execution_count": 22,
      "outputs": []
    },
    {
      "cell_type": "code",
      "metadata": {
        "id": "Xg12W3brxspR"
      },
      "source": [
        "reviews = reviews.groupby(\"title\")['text'].apply(' '.join).reset_index()"
      ],
      "execution_count": 23,
      "outputs": []
    },
    {
      "cell_type": "code",
      "metadata": {
        "id": "zditRNInxsgc",
        "outputId": "bd52e9cd-6a5f-40ae-a624-4232a71b4587",
        "colab": {
          "base_uri": "https://localhost:8080/",
          "height": 419
        }
      },
      "source": [
        "reviews"
      ],
      "execution_count": 24,
      "outputs": [
        {
          "output_type": "execute_result",
          "data": {
            "text/html": [
              "<div>\n",
              "<style scoped>\n",
              "    .dataframe tbody tr th:only-of-type {\n",
              "        vertical-align: middle;\n",
              "    }\n",
              "\n",
              "    .dataframe tbody tr th {\n",
              "        vertical-align: top;\n",
              "    }\n",
              "\n",
              "    .dataframe thead th {\n",
              "        text-align: right;\n",
              "    }\n",
              "</style>\n",
              "<table border=\"1\" class=\"dataframe\">\n",
              "  <thead>\n",
              "    <tr style=\"text-align: right;\">\n",
              "      <th></th>\n",
              "      <th>title</th>\n",
              "      <th>text</th>\n",
              "    </tr>\n",
              "  </thead>\n",
              "  <tbody>\n",
              "    <tr>\n",
              "      <th>0</th>\n",
              "      <td>!Women Art Revolution</td>\n",
              "      <td>These interviews form the backbone of !W.A.R.,...</td>\n",
              "    </tr>\n",
              "    <tr>\n",
              "      <th>1</th>\n",
              "      <td>#Horror</td>\n",
              "      <td>Not every gamble works: The girls' intrusive B...</td>\n",
              "    </tr>\n",
              "    <tr>\n",
              "      <th>2</th>\n",
              "      <td>$9.99</td>\n",
              "      <td>Using the droll, wise stories of Etgar Keret a...</td>\n",
              "    </tr>\n",
              "    <tr>\n",
              "      <th>3</th>\n",
              "      <td>$pent</td>\n",
              "      <td>Has a warm and intimate feel that helps push i...</td>\n",
              "    </tr>\n",
              "    <tr>\n",
              "      <th>4</th>\n",
              "      <td>'71</td>\n",
              "      <td>Swift and exciting, with no taste for the usua...</td>\n",
              "    </tr>\n",
              "    <tr>\n",
              "      <th>...</th>\n",
              "      <td>...</td>\n",
              "      <td>...</td>\n",
              "    </tr>\n",
              "    <tr>\n",
              "      <th>12024</th>\n",
              "      <td>xXx: State of the Union</td>\n",
              "      <td>This is a B movie rooted in gut-level stirring...</td>\n",
              "    </tr>\n",
              "    <tr>\n",
              "      <th>12025</th>\n",
              "      <td>À Tout de Suite (Right Now)</td>\n",
              "      <td>It's hard to imagine many films surpassing or ...</td>\n",
              "    </tr>\n",
              "    <tr>\n",
              "      <th>12026</th>\n",
              "      <td>À cause d'un garçon</td>\n",
              "      <td>While Cazeneuve's story is about gay love, it ...</td>\n",
              "    </tr>\n",
              "    <tr>\n",
              "      <th>12027</th>\n",
              "      <td>Æon Flux</td>\n",
              "      <td>It's all so geekily gorgeous, it hardly matter...</td>\n",
              "    </tr>\n",
              "    <tr>\n",
              "      <th>12028</th>\n",
              "      <td>Ça commence aujourd'hui</td>\n",
              "      <td>nan Although there is real pain and suffering ...</td>\n",
              "    </tr>\n",
              "  </tbody>\n",
              "</table>\n",
              "<p>12029 rows × 2 columns</p>\n",
              "</div>"
            ],
            "text/plain": [
              "                             title                                               text\n",
              "0            !Women Art Revolution  These interviews form the backbone of !W.A.R.,...\n",
              "1                          #Horror  Not every gamble works: The girls' intrusive B...\n",
              "2                           $9.99   Using the droll, wise stories of Etgar Keret a...\n",
              "3                            $pent  Has a warm and intimate feel that helps push i...\n",
              "4                              '71  Swift and exciting, with no taste for the usua...\n",
              "...                            ...                                                ...\n",
              "12024      xXx: State of the Union  This is a B movie rooted in gut-level stirring...\n",
              "12025  À Tout de Suite (Right Now)  It's hard to imagine many films surpassing or ...\n",
              "12026          À cause d'un garçon  While Cazeneuve's story is about gay love, it ...\n",
              "12027                     Æon Flux  It's all so geekily gorgeous, it hardly matter...\n",
              "12028      Ça commence aujourd'hui  nan Although there is real pain and suffering ...\n",
              "\n",
              "[12029 rows x 2 columns]"
            ]
          },
          "metadata": {
            "tags": []
          },
          "execution_count": 24
        }
      ]
    },
    {
      "cell_type": "code",
      "metadata": {
        "id": "hGyZ8jsGxsQV"
      },
      "source": [
        "df = pd.merge(df, reviews ,  how='left', left_on='title', right_on='title')"
      ],
      "execution_count": 25,
      "outputs": []
    },
    {
      "cell_type": "code",
      "metadata": {
        "id": "VkLt-RPLxsET"
      },
      "source": [
        "df = df[df['text'].notna()]"
      ],
      "execution_count": 26,
      "outputs": []
    },
    {
      "cell_type": "code",
      "metadata": {
        "id": "gOCfTMNKx1j6",
        "outputId": "9c199618-32bd-4f66-b4d8-90e7d5f2dd7d",
        "colab": {
          "base_uri": "https://localhost:8080/",
          "height": 1000
        }
      },
      "source": [
        "df"
      ],
      "execution_count": 27,
      "outputs": [
        {
          "output_type": "execute_result",
          "data": {
            "text/html": [
              "<div>\n",
              "<style scoped>\n",
              "    .dataframe tbody tr th:only-of-type {\n",
              "        vertical-align: middle;\n",
              "    }\n",
              "\n",
              "    .dataframe tbody tr th {\n",
              "        vertical-align: top;\n",
              "    }\n",
              "\n",
              "    .dataframe thead th {\n",
              "        text-align: right;\n",
              "    }\n",
              "</style>\n",
              "<table border=\"1\" class=\"dataframe\">\n",
              "  <thead>\n",
              "    <tr style=\"text-align: right;\">\n",
              "      <th></th>\n",
              "      <th>index</th>\n",
              "      <th>movieId</th>\n",
              "      <th>title</th>\n",
              "      <th>genres</th>\n",
              "      <th>Release Year</th>\n",
              "      <th>Origin/Ethnicity</th>\n",
              "      <th>Director</th>\n",
              "      <th>Cast</th>\n",
              "      <th>Genre</th>\n",
              "      <th>Wiki Page</th>\n",
              "      <th>Plot</th>\n",
              "      <th>text</th>\n",
              "    </tr>\n",
              "  </thead>\n",
              "  <tbody>\n",
              "    <tr>\n",
              "      <th>0</th>\n",
              "      <td>0</td>\n",
              "      <td>1</td>\n",
              "      <td>Toy Story</td>\n",
              "      <td>Adventure|Animation|Children|Comedy|Fantasy</td>\n",
              "      <td>1995.0</td>\n",
              "      <td>American</td>\n",
              "      <td>John Lasseter</td>\n",
              "      <td>Tim Allen, Tom Hanks (voices)</td>\n",
              "      <td>animated film</td>\n",
              "      <td>https://en.wikipedia.org/wiki/Toy_Story</td>\n",
              "      <td>In a world where toys are living things who pr...</td>\n",
              "      <td>With \"instant classic\" written all over it, To...</td>\n",
              "    </tr>\n",
              "    <tr>\n",
              "      <th>1</th>\n",
              "      <td>1</td>\n",
              "      <td>2</td>\n",
              "      <td>Jumanji</td>\n",
              "      <td>Adventure|Children|Fantasy</td>\n",
              "      <td>1995.0</td>\n",
              "      <td>American</td>\n",
              "      <td>Joe Johnston</td>\n",
              "      <td>Robin Williams, Bonnie Hunt, Kirsten Dunst, Br...</td>\n",
              "      <td>family, fantasy</td>\n",
              "      <td>https://en.wikipedia.org/wiki/Jumanji_(film)</td>\n",
              "      <td>In 1869, near Brantford, New Hampshire, two br...</td>\n",
              "      <td>The result is a thrill ride with enough plunge...</td>\n",
              "    </tr>\n",
              "    <tr>\n",
              "      <th>2</th>\n",
              "      <td>2</td>\n",
              "      <td>3</td>\n",
              "      <td>Grumpier Old Men</td>\n",
              "      <td>Comedy|Romance</td>\n",
              "      <td>1995.0</td>\n",
              "      <td>American</td>\n",
              "      <td>Howard Deutch</td>\n",
              "      <td>Jack Lemmon, Walter Matthau, Ann-Margret, Soph...</td>\n",
              "      <td>comedy</td>\n",
              "      <td>https://en.wikipedia.org/wiki/Grumpier_Old_Men</td>\n",
              "      <td>The feud between Max (Walter Matthau) and John...</td>\n",
              "      <td>Grumpier is a welcome continuation that leaves...</td>\n",
              "    </tr>\n",
              "    <tr>\n",
              "      <th>4</th>\n",
              "      <td>4</td>\n",
              "      <td>5</td>\n",
              "      <td>Father of the Bride Part II</td>\n",
              "      <td>Comedy</td>\n",
              "      <td>1995.0</td>\n",
              "      <td>American</td>\n",
              "      <td>Charles Shyer</td>\n",
              "      <td>Steve Martin, Diane Keaton, Martin Short, Kimb...</td>\n",
              "      <td>comedy</td>\n",
              "      <td>https://en.wikipedia.org/wiki/Father_of_the_Br...</td>\n",
              "      <td>The film begins five years after the events of...</td>\n",
              "      <td>nan What Meyers and Shyer have accomplished is...</td>\n",
              "    </tr>\n",
              "    <tr>\n",
              "      <th>5</th>\n",
              "      <td>5</td>\n",
              "      <td>6</td>\n",
              "      <td>Heat</td>\n",
              "      <td>Action|Crime|Thriller</td>\n",
              "      <td>1972.0</td>\n",
              "      <td>American</td>\n",
              "      <td>Paul Morrissey</td>\n",
              "      <td>Joe Dallesandro, Sylvia Miles</td>\n",
              "      <td>drama</td>\n",
              "      <td>https://en.wikipedia.org/wiki/Heat_(1972_film)</td>\n",
              "      <td>Joey Davis is an unemployed former child star ...</td>\n",
              "      <td>Stunningly made and incisively acted by a larg...</td>\n",
              "    </tr>\n",
              "    <tr>\n",
              "      <th>...</th>\n",
              "      <td>...</td>\n",
              "      <td>...</td>\n",
              "      <td>...</td>\n",
              "      <td>...</td>\n",
              "      <td>...</td>\n",
              "      <td>...</td>\n",
              "      <td>...</td>\n",
              "      <td>...</td>\n",
              "      <td>...</td>\n",
              "      <td>...</td>\n",
              "      <td>...</td>\n",
              "      <td>...</td>\n",
              "    </tr>\n",
              "    <tr>\n",
              "      <th>11970</th>\n",
              "      <td>29116</td>\n",
              "      <td>130622</td>\n",
              "      <td>The Circle</td>\n",
              "      <td>Documentary|Drama</td>\n",
              "      <td>1925.0</td>\n",
              "      <td>American</td>\n",
              "      <td>Frank Borzage</td>\n",
              "      <td>Eleanor Boardman, Malcolm McGregor</td>\n",
              "      <td>romance drama</td>\n",
              "      <td>https://en.wikipedia.org/wiki/The_Circle_(1925...</td>\n",
              "      <td>In the 1890s, young Lady Catherine (Joan Crawf...</td>\n",
              "      <td>The Circle is very much a plea for the preserv...</td>\n",
              "    </tr>\n",
              "    <tr>\n",
              "      <th>11971</th>\n",
              "      <td>29117</td>\n",
              "      <td>130622</td>\n",
              "      <td>The Circle</td>\n",
              "      <td>Documentary|Drama</td>\n",
              "      <td>2017.0</td>\n",
              "      <td>American</td>\n",
              "      <td>James Ponsoldt</td>\n",
              "      <td>James Ponsoldt (director/screenplay); Tom Hank...</td>\n",
              "      <td>sci-fi, drama, thriller</td>\n",
              "      <td>https://en.wikipedia.org/wiki/The_Circle_(2017...</td>\n",
              "      <td>When her car breaks down, Mae Holland contacts...</td>\n",
              "      <td>The Circle is very much a plea for the preserv...</td>\n",
              "    </tr>\n",
              "    <tr>\n",
              "      <th>11978</th>\n",
              "      <td>29162</td>\n",
              "      <td>131013</td>\n",
              "      <td>Get Hard</td>\n",
              "      <td>Comedy</td>\n",
              "      <td>2015.0</td>\n",
              "      <td>American</td>\n",
              "      <td>Etan Cohen</td>\n",
              "      <td>Will Ferrell\\r\\nKevin Hart\\r\\nAlison Brie\\r\\nE...</td>\n",
              "      <td>comedy</td>\n",
              "      <td>https://en.wikipedia.org/wiki/Get_Hard</td>\n",
              "      <td>James King is an extremely wealthy hedge fund ...</td>\n",
              "      <td>It matches up two comic actors and instead of ...</td>\n",
              "    </tr>\n",
              "    <tr>\n",
              "      <th>11987</th>\n",
              "      <td>29207</td>\n",
              "      <td>131122</td>\n",
              "      <td>Love Exposure</td>\n",
              "      <td>Action|Comedy|Drama|Romance</td>\n",
              "      <td>2008.0</td>\n",
              "      <td>Japanese</td>\n",
              "      <td>Shion Sono</td>\n",
              "      <td>Atsuro Watabe, Itsuji Itao, Mami Nakamura, Hik...</td>\n",
              "      <td>romance, comedy, drama, art house &amp; internatio...</td>\n",
              "      <td>https://en.wikipedia.org/wiki/Love_Exposure</td>\n",
              "      <td>The story follows Yū Honda (Takahiro Nishijima...</td>\n",
              "      <td>The movie’s invigorating discourse on sin, lus...</td>\n",
              "    </tr>\n",
              "    <tr>\n",
              "      <th>11989</th>\n",
              "      <td>29230</td>\n",
              "      <td>131168</td>\n",
              "      <td>Phoenix</td>\n",
              "      <td>Drama</td>\n",
              "      <td>1998.0</td>\n",
              "      <td>American</td>\n",
              "      <td>Danny Cannon</td>\n",
              "      <td>Ray Liotta, Anjelica Huston, Anthony LaPaglia,...</td>\n",
              "      <td>crime</td>\n",
              "      <td>https://en.wikipedia.org/wiki/Phoenix_(1998_film)</td>\n",
              "      <td>In Phoenix, Arizona, Harry Collins is a cop wh...</td>\n",
              "      <td>There is intrigue. There is suspense. Guilt - ...</td>\n",
              "    </tr>\n",
              "  </tbody>\n",
              "</table>\n",
              "<p>5962 rows × 12 columns</p>\n",
              "</div>"
            ],
            "text/plain": [
              "       index  movieId                        title                                       genres  Release Year Origin/Ethnicity        Director                                               Cast                                              Genre                                          Wiki Page                                               Plot                                               text\n",
              "0          0        1                    Toy Story  Adventure|Animation|Children|Comedy|Fantasy        1995.0         American   John Lasseter                      Tim Allen, Tom Hanks (voices)                                      animated film            https://en.wikipedia.org/wiki/Toy_Story  In a world where toys are living things who pr...  With \"instant classic\" written all over it, To...\n",
              "1          1        2                      Jumanji                   Adventure|Children|Fantasy        1995.0         American    Joe Johnston  Robin Williams, Bonnie Hunt, Kirsten Dunst, Br...                                    family, fantasy       https://en.wikipedia.org/wiki/Jumanji_(film)  In 1869, near Brantford, New Hampshire, two br...  The result is a thrill ride with enough plunge...\n",
              "2          2        3             Grumpier Old Men                               Comedy|Romance        1995.0         American   Howard Deutch  Jack Lemmon, Walter Matthau, Ann-Margret, Soph...                                             comedy     https://en.wikipedia.org/wiki/Grumpier_Old_Men  The feud between Max (Walter Matthau) and John...  Grumpier is a welcome continuation that leaves...\n",
              "4          4        5  Father of the Bride Part II                                       Comedy        1995.0         American   Charles Shyer  Steve Martin, Diane Keaton, Martin Short, Kimb...                                             comedy  https://en.wikipedia.org/wiki/Father_of_the_Br...  The film begins five years after the events of...  nan What Meyers and Shyer have accomplished is...\n",
              "5          5        6                         Heat                        Action|Crime|Thriller        1972.0         American  Paul Morrissey                      Joe Dallesandro, Sylvia Miles                                              drama     https://en.wikipedia.org/wiki/Heat_(1972_film)  Joey Davis is an unemployed former child star ...  Stunningly made and incisively acted by a larg...\n",
              "...      ...      ...                          ...                                          ...           ...              ...             ...                                                ...                                                ...                                                ...                                                ...                                                ...\n",
              "11970  29116   130622                   The Circle                            Documentary|Drama        1925.0         American   Frank Borzage                 Eleanor Boardman, Malcolm McGregor                                      romance drama  https://en.wikipedia.org/wiki/The_Circle_(1925...  In the 1890s, young Lady Catherine (Joan Crawf...  The Circle is very much a plea for the preserv...\n",
              "11971  29117   130622                   The Circle                            Documentary|Drama        2017.0         American  James Ponsoldt  James Ponsoldt (director/screenplay); Tom Hank...                            sci-fi, drama, thriller  https://en.wikipedia.org/wiki/The_Circle_(2017...  When her car breaks down, Mae Holland contacts...  The Circle is very much a plea for the preserv...\n",
              "11978  29162   131013                     Get Hard                                       Comedy        2015.0         American      Etan Cohen  Will Ferrell\\r\\nKevin Hart\\r\\nAlison Brie\\r\\nE...                                             comedy             https://en.wikipedia.org/wiki/Get_Hard  James King is an extremely wealthy hedge fund ...  It matches up two comic actors and instead of ...\n",
              "11987  29207   131122                Love Exposure                  Action|Comedy|Drama|Romance        2008.0         Japanese      Shion Sono  Atsuro Watabe, Itsuji Itao, Mami Nakamura, Hik...  romance, comedy, drama, art house & internatio...        https://en.wikipedia.org/wiki/Love_Exposure  The story follows Yū Honda (Takahiro Nishijima...  The movie’s invigorating discourse on sin, lus...\n",
              "11989  29230   131168                      Phoenix                                        Drama        1998.0         American    Danny Cannon  Ray Liotta, Anjelica Huston, Anthony LaPaglia,...                                              crime  https://en.wikipedia.org/wiki/Phoenix_(1998_film)  In Phoenix, Arizona, Harry Collins is a cop wh...  There is intrigue. There is suspense. Guilt - ...\n",
              "\n",
              "[5962 rows x 12 columns]"
            ]
          },
          "metadata": {
            "tags": []
          },
          "execution_count": 27
        }
      ]
    },
    {
      "cell_type": "code",
      "metadata": {
        "id": "itiH7Jwvx3Ob"
      },
      "source": [
        " df.drop(df.columns.difference(['Plot','title', 'text', 'movieId']), 1, inplace=True)"
      ],
      "execution_count": 28,
      "outputs": []
    },
    {
      "cell_type": "code",
      "metadata": {
        "id": "kdH9Y-8cx4ll"
      },
      "source": [
        "df = df.reset_index()"
      ],
      "execution_count": 29,
      "outputs": []
    },
    {
      "cell_type": "code",
      "metadata": {
        "id": "W2qb74H6x5o9"
      },
      "source": [
        "df = df.drop(['index'], axis = 1)"
      ],
      "execution_count": 30,
      "outputs": []
    },
    {
      "cell_type": "code",
      "metadata": {
        "id": "jiFfEi9Xx6NY",
        "outputId": "aed85d88-893f-406e-f174-847b72b6dafe",
        "colab": {
          "base_uri": "https://localhost:8080/",
          "height": 204
        }
      },
      "source": [
        "df.head()"
      ],
      "execution_count": 31,
      "outputs": [
        {
          "output_type": "execute_result",
          "data": {
            "text/html": [
              "<div>\n",
              "<style scoped>\n",
              "    .dataframe tbody tr th:only-of-type {\n",
              "        vertical-align: middle;\n",
              "    }\n",
              "\n",
              "    .dataframe tbody tr th {\n",
              "        vertical-align: top;\n",
              "    }\n",
              "\n",
              "    .dataframe thead th {\n",
              "        text-align: right;\n",
              "    }\n",
              "</style>\n",
              "<table border=\"1\" class=\"dataframe\">\n",
              "  <thead>\n",
              "    <tr style=\"text-align: right;\">\n",
              "      <th></th>\n",
              "      <th>movieId</th>\n",
              "      <th>title</th>\n",
              "      <th>Plot</th>\n",
              "      <th>text</th>\n",
              "    </tr>\n",
              "  </thead>\n",
              "  <tbody>\n",
              "    <tr>\n",
              "      <th>0</th>\n",
              "      <td>1</td>\n",
              "      <td>Toy Story</td>\n",
              "      <td>In a world where toys are living things who pr...</td>\n",
              "      <td>With \"instant classic\" written all over it, To...</td>\n",
              "    </tr>\n",
              "    <tr>\n",
              "      <th>1</th>\n",
              "      <td>2</td>\n",
              "      <td>Jumanji</td>\n",
              "      <td>In 1869, near Brantford, New Hampshire, two br...</td>\n",
              "      <td>The result is a thrill ride with enough plunge...</td>\n",
              "    </tr>\n",
              "    <tr>\n",
              "      <th>2</th>\n",
              "      <td>3</td>\n",
              "      <td>Grumpier Old Men</td>\n",
              "      <td>The feud between Max (Walter Matthau) and John...</td>\n",
              "      <td>Grumpier is a welcome continuation that leaves...</td>\n",
              "    </tr>\n",
              "    <tr>\n",
              "      <th>3</th>\n",
              "      <td>5</td>\n",
              "      <td>Father of the Bride Part II</td>\n",
              "      <td>The film begins five years after the events of...</td>\n",
              "      <td>nan What Meyers and Shyer have accomplished is...</td>\n",
              "    </tr>\n",
              "    <tr>\n",
              "      <th>4</th>\n",
              "      <td>6</td>\n",
              "      <td>Heat</td>\n",
              "      <td>Joey Davis is an unemployed former child star ...</td>\n",
              "      <td>Stunningly made and incisively acted by a larg...</td>\n",
              "    </tr>\n",
              "  </tbody>\n",
              "</table>\n",
              "</div>"
            ],
            "text/plain": [
              "   movieId                        title                                               Plot                                               text\n",
              "0        1                    Toy Story  In a world where toys are living things who pr...  With \"instant classic\" written all over it, To...\n",
              "1        2                      Jumanji  In 1869, near Brantford, New Hampshire, two br...  The result is a thrill ride with enough plunge...\n",
              "2        3             Grumpier Old Men  The feud between Max (Walter Matthau) and John...  Grumpier is a welcome continuation that leaves...\n",
              "3        5  Father of the Bride Part II  The film begins five years after the events of...  nan What Meyers and Shyer have accomplished is...\n",
              "4        6                         Heat  Joey Davis is an unemployed former child star ...  Stunningly made and incisively acted by a larg..."
            ]
          },
          "metadata": {
            "tags": []
          },
          "execution_count": 31
        }
      ]
    },
    {
      "cell_type": "code",
      "metadata": {
        "id": "Wmk2k2DWx7jj"
      },
      "source": [
        "genome = pd.merge(genome_scores, genome_tags ,  how='left', left_on='tagId', right_on='tagId')"
      ],
      "execution_count": 32,
      "outputs": []
    },
    {
      "cell_type": "code",
      "metadata": {
        "id": "gh3b0724x7up",
        "outputId": "0e5d9c64-66fd-4cba-8088-12bf0921b0ff",
        "colab": {
          "base_uri": "https://localhost:8080/",
          "height": 419
        }
      },
      "source": [
        "genome"
      ],
      "execution_count": 33,
      "outputs": [
        {
          "output_type": "execute_result",
          "data": {
            "text/html": [
              "<div>\n",
              "<style scoped>\n",
              "    .dataframe tbody tr th:only-of-type {\n",
              "        vertical-align: middle;\n",
              "    }\n",
              "\n",
              "    .dataframe tbody tr th {\n",
              "        vertical-align: top;\n",
              "    }\n",
              "\n",
              "    .dataframe thead th {\n",
              "        text-align: right;\n",
              "    }\n",
              "</style>\n",
              "<table border=\"1\" class=\"dataframe\">\n",
              "  <thead>\n",
              "    <tr style=\"text-align: right;\">\n",
              "      <th></th>\n",
              "      <th>movieId</th>\n",
              "      <th>tagId</th>\n",
              "      <th>relevance</th>\n",
              "      <th>tag</th>\n",
              "    </tr>\n",
              "  </thead>\n",
              "  <tbody>\n",
              "    <tr>\n",
              "      <th>0</th>\n",
              "      <td>1</td>\n",
              "      <td>1</td>\n",
              "      <td>0.02500</td>\n",
              "      <td>007</td>\n",
              "    </tr>\n",
              "    <tr>\n",
              "      <th>1</th>\n",
              "      <td>1</td>\n",
              "      <td>2</td>\n",
              "      <td>0.02500</td>\n",
              "      <td>007 (series)</td>\n",
              "    </tr>\n",
              "    <tr>\n",
              "      <th>2</th>\n",
              "      <td>1</td>\n",
              "      <td>3</td>\n",
              "      <td>0.05775</td>\n",
              "      <td>18th century</td>\n",
              "    </tr>\n",
              "    <tr>\n",
              "      <th>3</th>\n",
              "      <td>1</td>\n",
              "      <td>4</td>\n",
              "      <td>0.09675</td>\n",
              "      <td>1920s</td>\n",
              "    </tr>\n",
              "    <tr>\n",
              "      <th>4</th>\n",
              "      <td>1</td>\n",
              "      <td>5</td>\n",
              "      <td>0.14675</td>\n",
              "      <td>1930s</td>\n",
              "    </tr>\n",
              "    <tr>\n",
              "      <th>...</th>\n",
              "      <td>...</td>\n",
              "      <td>...</td>\n",
              "      <td>...</td>\n",
              "      <td>...</td>\n",
              "    </tr>\n",
              "    <tr>\n",
              "      <th>11709763</th>\n",
              "      <td>131170</td>\n",
              "      <td>1124</td>\n",
              "      <td>0.58775</td>\n",
              "      <td>writing</td>\n",
              "    </tr>\n",
              "    <tr>\n",
              "      <th>11709764</th>\n",
              "      <td>131170</td>\n",
              "      <td>1125</td>\n",
              "      <td>0.01075</td>\n",
              "      <td>wuxia</td>\n",
              "    </tr>\n",
              "    <tr>\n",
              "      <th>11709765</th>\n",
              "      <td>131170</td>\n",
              "      <td>1126</td>\n",
              "      <td>0.01575</td>\n",
              "      <td>wwii</td>\n",
              "    </tr>\n",
              "    <tr>\n",
              "      <th>11709766</th>\n",
              "      <td>131170</td>\n",
              "      <td>1127</td>\n",
              "      <td>0.11450</td>\n",
              "      <td>zombie</td>\n",
              "    </tr>\n",
              "    <tr>\n",
              "      <th>11709767</th>\n",
              "      <td>131170</td>\n",
              "      <td>1128</td>\n",
              "      <td>0.02175</td>\n",
              "      <td>zombies</td>\n",
              "    </tr>\n",
              "  </tbody>\n",
              "</table>\n",
              "<p>11709768 rows × 4 columns</p>\n",
              "</div>"
            ],
            "text/plain": [
              "          movieId  tagId  relevance           tag\n",
              "0               1      1    0.02500           007\n",
              "1               1      2    0.02500  007 (series)\n",
              "2               1      3    0.05775  18th century\n",
              "3               1      4    0.09675         1920s\n",
              "4               1      5    0.14675         1930s\n",
              "...           ...    ...        ...           ...\n",
              "11709763   131170   1124    0.58775       writing\n",
              "11709764   131170   1125    0.01075         wuxia\n",
              "11709765   131170   1126    0.01575          wwii\n",
              "11709766   131170   1127    0.11450        zombie\n",
              "11709767   131170   1128    0.02175       zombies\n",
              "\n",
              "[11709768 rows x 4 columns]"
            ]
          },
          "metadata": {
            "tags": []
          },
          "execution_count": 33
        }
      ]
    },
    {
      "cell_type": "code",
      "metadata": {
        "id": "TKM6uUYQx766"
      },
      "source": [
        "genome = genome.groupby(\"movieId\").agg(lambda x: x.tolist())"
      ],
      "execution_count": 34,
      "outputs": []
    },
    {
      "cell_type": "code",
      "metadata": {
        "id": "PXc8LHukx7_1"
      },
      "source": [
        "genome = genome.drop(['tagId'], axis = 1)"
      ],
      "execution_count": 35,
      "outputs": []
    },
    {
      "cell_type": "code",
      "metadata": {
        "id": "uiZfmgxTx7-Q"
      },
      "source": [
        "genome = genome.reset_index()"
      ],
      "execution_count": 36,
      "outputs": []
    },
    {
      "cell_type": "code",
      "metadata": {
        "id": "gtgPa8JDx7zw",
        "outputId": "b7d1ed1c-6519-4cb2-dd5d-78977955e940",
        "colab": {
          "base_uri": "https://localhost:8080/",
          "height": 419
        }
      },
      "source": [
        "genome"
      ],
      "execution_count": 37,
      "outputs": [
        {
          "output_type": "execute_result",
          "data": {
            "text/html": [
              "<div>\n",
              "<style scoped>\n",
              "    .dataframe tbody tr th:only-of-type {\n",
              "        vertical-align: middle;\n",
              "    }\n",
              "\n",
              "    .dataframe tbody tr th {\n",
              "        vertical-align: top;\n",
              "    }\n",
              "\n",
              "    .dataframe thead th {\n",
              "        text-align: right;\n",
              "    }\n",
              "</style>\n",
              "<table border=\"1\" class=\"dataframe\">\n",
              "  <thead>\n",
              "    <tr style=\"text-align: right;\">\n",
              "      <th></th>\n",
              "      <th>movieId</th>\n",
              "      <th>relevance</th>\n",
              "      <th>tag</th>\n",
              "    </tr>\n",
              "  </thead>\n",
              "  <tbody>\n",
              "    <tr>\n",
              "      <th>0</th>\n",
              "      <td>1</td>\n",
              "      <td>[0.025, 0.025, 0.05775, 0.09675, 0.14675, 0.21...</td>\n",
              "      <td>[007, 007 (series), 18th century, 1920s, 1930s...</td>\n",
              "    </tr>\n",
              "    <tr>\n",
              "      <th>1</th>\n",
              "      <td>2</td>\n",
              "      <td>[0.03975, 0.04375, 0.03775, 0.048, 0.11025, 0....</td>\n",
              "      <td>[007, 007 (series), 18th century, 1920s, 1930s...</td>\n",
              "    </tr>\n",
              "    <tr>\n",
              "      <th>2</th>\n",
              "      <td>3</td>\n",
              "      <td>[0.0435, 0.05475, 0.027999999999999997, 0.077,...</td>\n",
              "      <td>[007, 007 (series), 18th century, 1920s, 1930s...</td>\n",
              "    </tr>\n",
              "    <tr>\n",
              "      <th>3</th>\n",
              "      <td>4</td>\n",
              "      <td>[0.03725, 0.0395, 0.03675, 0.031, 0.06825, 0.0...</td>\n",
              "      <td>[007, 007 (series), 18th century, 1920s, 1930s...</td>\n",
              "    </tr>\n",
              "    <tr>\n",
              "      <th>4</th>\n",
              "      <td>5</td>\n",
              "      <td>[0.042, 0.05275, 0.05925, 0.03675, 0.07525, 0....</td>\n",
              "      <td>[007, 007 (series), 18th century, 1920s, 1930s...</td>\n",
              "    </tr>\n",
              "    <tr>\n",
              "      <th>...</th>\n",
              "      <td>...</td>\n",
              "      <td>...</td>\n",
              "      <td>...</td>\n",
              "    </tr>\n",
              "    <tr>\n",
              "      <th>10376</th>\n",
              "      <td>130578</td>\n",
              "      <td>[0.154, 0.04025, 0.01975, 0.0185, 0.0285, 0.02...</td>\n",
              "      <td>[007, 007 (series), 18th century, 1920s, 1930s...</td>\n",
              "    </tr>\n",
              "    <tr>\n",
              "      <th>10377</th>\n",
              "      <td>130840</td>\n",
              "      <td>[0.024, 0.03025, 0.02425, 0.09375, 0.055999999...</td>\n",
              "      <td>[007, 007 (series), 18th century, 1920s, 1930s...</td>\n",
              "    </tr>\n",
              "    <tr>\n",
              "      <th>10378</th>\n",
              "      <td>131013</td>\n",
              "      <td>[0.042, 0.03175, 0.017, 0.055999999999999994, ...</td>\n",
              "      <td>[007, 007 (series), 18th century, 1920s, 1930s...</td>\n",
              "    </tr>\n",
              "    <tr>\n",
              "      <th>10379</th>\n",
              "      <td>131168</td>\n",
              "      <td>[0.05975, 0.10375, 0.1785, 0.14875, 0.2775, 0....</td>\n",
              "      <td>[007, 007 (series), 18th century, 1920s, 1930s...</td>\n",
              "    </tr>\n",
              "    <tr>\n",
              "      <th>10380</th>\n",
              "      <td>131170</td>\n",
              "      <td>[0.05325, 0.08625, 0.017, 0.0265, 0.157, 0.093...</td>\n",
              "      <td>[007, 007 (series), 18th century, 1920s, 1930s...</td>\n",
              "    </tr>\n",
              "  </tbody>\n",
              "</table>\n",
              "<p>10381 rows × 3 columns</p>\n",
              "</div>"
            ],
            "text/plain": [
              "       movieId                                          relevance                                                tag\n",
              "0            1  [0.025, 0.025, 0.05775, 0.09675, 0.14675, 0.21...  [007, 007 (series), 18th century, 1920s, 1930s...\n",
              "1            2  [0.03975, 0.04375, 0.03775, 0.048, 0.11025, 0....  [007, 007 (series), 18th century, 1920s, 1930s...\n",
              "2            3  [0.0435, 0.05475, 0.027999999999999997, 0.077,...  [007, 007 (series), 18th century, 1920s, 1930s...\n",
              "3            4  [0.03725, 0.0395, 0.03675, 0.031, 0.06825, 0.0...  [007, 007 (series), 18th century, 1920s, 1930s...\n",
              "4            5  [0.042, 0.05275, 0.05925, 0.03675, 0.07525, 0....  [007, 007 (series), 18th century, 1920s, 1930s...\n",
              "...        ...                                                ...                                                ...\n",
              "10376   130578  [0.154, 0.04025, 0.01975, 0.0185, 0.0285, 0.02...  [007, 007 (series), 18th century, 1920s, 1930s...\n",
              "10377   130840  [0.024, 0.03025, 0.02425, 0.09375, 0.055999999...  [007, 007 (series), 18th century, 1920s, 1930s...\n",
              "10378   131013  [0.042, 0.03175, 0.017, 0.055999999999999994, ...  [007, 007 (series), 18th century, 1920s, 1930s...\n",
              "10379   131168  [0.05975, 0.10375, 0.1785, 0.14875, 0.2775, 0....  [007, 007 (series), 18th century, 1920s, 1930s...\n",
              "10380   131170  [0.05325, 0.08625, 0.017, 0.0265, 0.157, 0.093...  [007, 007 (series), 18th century, 1920s, 1930s...\n",
              "\n",
              "[10381 rows x 3 columns]"
            ]
          },
          "metadata": {
            "tags": []
          },
          "execution_count": 37
        }
      ]
    },
    {
      "cell_type": "code",
      "metadata": {
        "id": "9DnJyi0dx7yB"
      },
      "source": [
        "df = pd.merge(df, genome ,  how='left', left_on='movieId', right_on='movieId')"
      ],
      "execution_count": 38,
      "outputs": []
    },
    {
      "cell_type": "code",
      "metadata": {
        "id": "mXGd4bGBx7ov",
        "outputId": "da981312-94f5-49b5-9ef3-992200f2e6be",
        "colab": {
          "base_uri": "https://localhost:8080/",
          "height": 589
        }
      },
      "source": [
        "df"
      ],
      "execution_count": 39,
      "outputs": [
        {
          "output_type": "execute_result",
          "data": {
            "text/html": [
              "<div>\n",
              "<style scoped>\n",
              "    .dataframe tbody tr th:only-of-type {\n",
              "        vertical-align: middle;\n",
              "    }\n",
              "\n",
              "    .dataframe tbody tr th {\n",
              "        vertical-align: top;\n",
              "    }\n",
              "\n",
              "    .dataframe thead th {\n",
              "        text-align: right;\n",
              "    }\n",
              "</style>\n",
              "<table border=\"1\" class=\"dataframe\">\n",
              "  <thead>\n",
              "    <tr style=\"text-align: right;\">\n",
              "      <th></th>\n",
              "      <th>movieId</th>\n",
              "      <th>title</th>\n",
              "      <th>Plot</th>\n",
              "      <th>text</th>\n",
              "      <th>relevance</th>\n",
              "      <th>tag</th>\n",
              "    </tr>\n",
              "  </thead>\n",
              "  <tbody>\n",
              "    <tr>\n",
              "      <th>0</th>\n",
              "      <td>1</td>\n",
              "      <td>Toy Story</td>\n",
              "      <td>In a world where toys are living things who pr...</td>\n",
              "      <td>With \"instant classic\" written all over it, To...</td>\n",
              "      <td>[0.025, 0.025, 0.05775, 0.09675, 0.14675, 0.21...</td>\n",
              "      <td>[007, 007 (series), 18th century, 1920s, 1930s...</td>\n",
              "    </tr>\n",
              "    <tr>\n",
              "      <th>1</th>\n",
              "      <td>2</td>\n",
              "      <td>Jumanji</td>\n",
              "      <td>In 1869, near Brantford, New Hampshire, two br...</td>\n",
              "      <td>The result is a thrill ride with enough plunge...</td>\n",
              "      <td>[0.03975, 0.04375, 0.03775, 0.048, 0.11025, 0....</td>\n",
              "      <td>[007, 007 (series), 18th century, 1920s, 1930s...</td>\n",
              "    </tr>\n",
              "    <tr>\n",
              "      <th>2</th>\n",
              "      <td>3</td>\n",
              "      <td>Grumpier Old Men</td>\n",
              "      <td>The feud between Max (Walter Matthau) and John...</td>\n",
              "      <td>Grumpier is a welcome continuation that leaves...</td>\n",
              "      <td>[0.0435, 0.05475, 0.027999999999999997, 0.077,...</td>\n",
              "      <td>[007, 007 (series), 18th century, 1920s, 1930s...</td>\n",
              "    </tr>\n",
              "    <tr>\n",
              "      <th>3</th>\n",
              "      <td>5</td>\n",
              "      <td>Father of the Bride Part II</td>\n",
              "      <td>The film begins five years after the events of...</td>\n",
              "      <td>nan What Meyers and Shyer have accomplished is...</td>\n",
              "      <td>[0.042, 0.05275, 0.05925, 0.03675, 0.07525, 0....</td>\n",
              "      <td>[007, 007 (series), 18th century, 1920s, 1930s...</td>\n",
              "    </tr>\n",
              "    <tr>\n",
              "      <th>4</th>\n",
              "      <td>6</td>\n",
              "      <td>Heat</td>\n",
              "      <td>Joey Davis is an unemployed former child star ...</td>\n",
              "      <td>Stunningly made and incisively acted by a larg...</td>\n",
              "      <td>[0.02825, 0.0255, 0.0185, 0.0455, 0.09575, 0.0...</td>\n",
              "      <td>[007, 007 (series), 18th century, 1920s, 1930s...</td>\n",
              "    </tr>\n",
              "    <tr>\n",
              "      <th>...</th>\n",
              "      <td>...</td>\n",
              "      <td>...</td>\n",
              "      <td>...</td>\n",
              "      <td>...</td>\n",
              "      <td>...</td>\n",
              "      <td>...</td>\n",
              "    </tr>\n",
              "    <tr>\n",
              "      <th>5957</th>\n",
              "      <td>130622</td>\n",
              "      <td>The Circle</td>\n",
              "      <td>In the 1890s, young Lady Catherine (Joan Crawf...</td>\n",
              "      <td>The Circle is very much a plea for the preserv...</td>\n",
              "      <td>NaN</td>\n",
              "      <td>NaN</td>\n",
              "    </tr>\n",
              "    <tr>\n",
              "      <th>5958</th>\n",
              "      <td>130622</td>\n",
              "      <td>The Circle</td>\n",
              "      <td>When her car breaks down, Mae Holland contacts...</td>\n",
              "      <td>The Circle is very much a plea for the preserv...</td>\n",
              "      <td>NaN</td>\n",
              "      <td>NaN</td>\n",
              "    </tr>\n",
              "    <tr>\n",
              "      <th>5959</th>\n",
              "      <td>131013</td>\n",
              "      <td>Get Hard</td>\n",
              "      <td>James King is an extremely wealthy hedge fund ...</td>\n",
              "      <td>It matches up two comic actors and instead of ...</td>\n",
              "      <td>[0.042, 0.03175, 0.017, 0.055999999999999994, ...</td>\n",
              "      <td>[007, 007 (series), 18th century, 1920s, 1930s...</td>\n",
              "    </tr>\n",
              "    <tr>\n",
              "      <th>5960</th>\n",
              "      <td>131122</td>\n",
              "      <td>Love Exposure</td>\n",
              "      <td>The story follows Yū Honda (Takahiro Nishijima...</td>\n",
              "      <td>The movie’s invigorating discourse on sin, lus...</td>\n",
              "      <td>NaN</td>\n",
              "      <td>NaN</td>\n",
              "    </tr>\n",
              "    <tr>\n",
              "      <th>5961</th>\n",
              "      <td>131168</td>\n",
              "      <td>Phoenix</td>\n",
              "      <td>In Phoenix, Arizona, Harry Collins is a cop wh...</td>\n",
              "      <td>There is intrigue. There is suspense. Guilt - ...</td>\n",
              "      <td>[0.05975, 0.10375, 0.1785, 0.14875, 0.2775, 0....</td>\n",
              "      <td>[007, 007 (series), 18th century, 1920s, 1930s...</td>\n",
              "    </tr>\n",
              "  </tbody>\n",
              "</table>\n",
              "<p>5962 rows × 6 columns</p>\n",
              "</div>"
            ],
            "text/plain": [
              "      movieId                        title                                               Plot                                               text                                          relevance                                                tag\n",
              "0           1                    Toy Story  In a world where toys are living things who pr...  With \"instant classic\" written all over it, To...  [0.025, 0.025, 0.05775, 0.09675, 0.14675, 0.21...  [007, 007 (series), 18th century, 1920s, 1930s...\n",
              "1           2                      Jumanji  In 1869, near Brantford, New Hampshire, two br...  The result is a thrill ride with enough plunge...  [0.03975, 0.04375, 0.03775, 0.048, 0.11025, 0....  [007, 007 (series), 18th century, 1920s, 1930s...\n",
              "2           3             Grumpier Old Men  The feud between Max (Walter Matthau) and John...  Grumpier is a welcome continuation that leaves...  [0.0435, 0.05475, 0.027999999999999997, 0.077,...  [007, 007 (series), 18th century, 1920s, 1930s...\n",
              "3           5  Father of the Bride Part II  The film begins five years after the events of...  nan What Meyers and Shyer have accomplished is...  [0.042, 0.05275, 0.05925, 0.03675, 0.07525, 0....  [007, 007 (series), 18th century, 1920s, 1930s...\n",
              "4           6                         Heat  Joey Davis is an unemployed former child star ...  Stunningly made and incisively acted by a larg...  [0.02825, 0.0255, 0.0185, 0.0455, 0.09575, 0.0...  [007, 007 (series), 18th century, 1920s, 1930s...\n",
              "...       ...                          ...                                                ...                                                ...                                                ...                                                ...\n",
              "5957   130622                   The Circle  In the 1890s, young Lady Catherine (Joan Crawf...  The Circle is very much a plea for the preserv...                                                NaN                                                NaN\n",
              "5958   130622                   The Circle  When her car breaks down, Mae Holland contacts...  The Circle is very much a plea for the preserv...                                                NaN                                                NaN\n",
              "5959   131013                     Get Hard  James King is an extremely wealthy hedge fund ...  It matches up two comic actors and instead of ...  [0.042, 0.03175, 0.017, 0.055999999999999994, ...  [007, 007 (series), 18th century, 1920s, 1930s...\n",
              "5960   131122                Love Exposure  The story follows Yū Honda (Takahiro Nishijima...  The movie’s invigorating discourse on sin, lus...                                                NaN                                                NaN\n",
              "5961   131168                      Phoenix  In Phoenix, Arizona, Harry Collins is a cop wh...  There is intrigue. There is suspense. Guilt - ...  [0.05975, 0.10375, 0.1785, 0.14875, 0.2775, 0....  [007, 007 (series), 18th century, 1920s, 1930s...\n",
              "\n",
              "[5962 rows x 6 columns]"
            ]
          },
          "metadata": {
            "tags": []
          },
          "execution_count": 39
        }
      ]
    },
    {
      "cell_type": "code",
      "metadata": {
        "id": "Gh0lB6qPx7bM"
      },
      "source": [
        "df = df[df['relevance'].notna()]"
      ],
      "execution_count": 40,
      "outputs": []
    },
    {
      "cell_type": "code",
      "metadata": {
        "id": "5kva7CzLzclR"
      },
      "source": [
        "df = df[df['tag'].notna()]"
      ],
      "execution_count": 41,
      "outputs": []
    },
    {
      "cell_type": "code",
      "metadata": {
        "id": "4ocskPV3zhFl"
      },
      "source": [
        "df = df[df['Plot'].notna()]"
      ],
      "execution_count": 42,
      "outputs": []
    },
    {
      "cell_type": "code",
      "metadata": {
        "id": "IHf5pof5yKI9"
      },
      "source": [
        "df = df.reset_index()"
      ],
      "execution_count": 43,
      "outputs": []
    },
    {
      "cell_type": "code",
      "metadata": {
        "id": "1JUNyvBFzmS2",
        "outputId": "a8eaf503-7d35-4040-9b52-192c1f4eec3f",
        "colab": {
          "base_uri": "https://localhost:8080/",
          "height": 34
        }
      },
      "source": [
        "len(df['relevance'])"
      ],
      "execution_count": 44,
      "outputs": [
        {
          "output_type": "execute_result",
          "data": {
            "text/plain": [
              "4561"
            ]
          },
          "metadata": {
            "tags": []
          },
          "execution_count": 44
        }
      ]
    },
    {
      "cell_type": "code",
      "metadata": {
        "id": "QrFRWpgUyKN7",
        "outputId": "f3de4f0d-56b0-479f-9c26-0389d70543d4",
        "colab": {
          "base_uri": "https://localhost:8080/",
          "height": 589
        }
      },
      "source": [
        "df"
      ],
      "execution_count": 45,
      "outputs": [
        {
          "output_type": "execute_result",
          "data": {
            "text/html": [
              "<div>\n",
              "<style scoped>\n",
              "    .dataframe tbody tr th:only-of-type {\n",
              "        vertical-align: middle;\n",
              "    }\n",
              "\n",
              "    .dataframe tbody tr th {\n",
              "        vertical-align: top;\n",
              "    }\n",
              "\n",
              "    .dataframe thead th {\n",
              "        text-align: right;\n",
              "    }\n",
              "</style>\n",
              "<table border=\"1\" class=\"dataframe\">\n",
              "  <thead>\n",
              "    <tr style=\"text-align: right;\">\n",
              "      <th></th>\n",
              "      <th>index</th>\n",
              "      <th>movieId</th>\n",
              "      <th>title</th>\n",
              "      <th>Plot</th>\n",
              "      <th>text</th>\n",
              "      <th>relevance</th>\n",
              "      <th>tag</th>\n",
              "    </tr>\n",
              "  </thead>\n",
              "  <tbody>\n",
              "    <tr>\n",
              "      <th>0</th>\n",
              "      <td>0</td>\n",
              "      <td>1</td>\n",
              "      <td>Toy Story</td>\n",
              "      <td>In a world where toys are living things who pr...</td>\n",
              "      <td>With \"instant classic\" written all over it, To...</td>\n",
              "      <td>[0.025, 0.025, 0.05775, 0.09675, 0.14675, 0.21...</td>\n",
              "      <td>[007, 007 (series), 18th century, 1920s, 1930s...</td>\n",
              "    </tr>\n",
              "    <tr>\n",
              "      <th>1</th>\n",
              "      <td>1</td>\n",
              "      <td>2</td>\n",
              "      <td>Jumanji</td>\n",
              "      <td>In 1869, near Brantford, New Hampshire, two br...</td>\n",
              "      <td>The result is a thrill ride with enough plunge...</td>\n",
              "      <td>[0.03975, 0.04375, 0.03775, 0.048, 0.11025, 0....</td>\n",
              "      <td>[007, 007 (series), 18th century, 1920s, 1930s...</td>\n",
              "    </tr>\n",
              "    <tr>\n",
              "      <th>2</th>\n",
              "      <td>2</td>\n",
              "      <td>3</td>\n",
              "      <td>Grumpier Old Men</td>\n",
              "      <td>The feud between Max (Walter Matthau) and John...</td>\n",
              "      <td>Grumpier is a welcome continuation that leaves...</td>\n",
              "      <td>[0.0435, 0.05475, 0.027999999999999997, 0.077,...</td>\n",
              "      <td>[007, 007 (series), 18th century, 1920s, 1930s...</td>\n",
              "    </tr>\n",
              "    <tr>\n",
              "      <th>3</th>\n",
              "      <td>3</td>\n",
              "      <td>5</td>\n",
              "      <td>Father of the Bride Part II</td>\n",
              "      <td>The film begins five years after the events of...</td>\n",
              "      <td>nan What Meyers and Shyer have accomplished is...</td>\n",
              "      <td>[0.042, 0.05275, 0.05925, 0.03675, 0.07525, 0....</td>\n",
              "      <td>[007, 007 (series), 18th century, 1920s, 1930s...</td>\n",
              "    </tr>\n",
              "    <tr>\n",
              "      <th>4</th>\n",
              "      <td>4</td>\n",
              "      <td>6</td>\n",
              "      <td>Heat</td>\n",
              "      <td>Joey Davis is an unemployed former child star ...</td>\n",
              "      <td>Stunningly made and incisively acted by a larg...</td>\n",
              "      <td>[0.02825, 0.0255, 0.0185, 0.0455, 0.09575, 0.0...</td>\n",
              "      <td>[007, 007 (series), 18th century, 1920s, 1930s...</td>\n",
              "    </tr>\n",
              "    <tr>\n",
              "      <th>...</th>\n",
              "      <td>...</td>\n",
              "      <td>...</td>\n",
              "      <td>...</td>\n",
              "      <td>...</td>\n",
              "      <td>...</td>\n",
              "      <td>...</td>\n",
              "      <td>...</td>\n",
              "    </tr>\n",
              "    <tr>\n",
              "      <th>4556</th>\n",
              "      <td>5954</td>\n",
              "      <td>130520</td>\n",
              "      <td>Home</td>\n",
              "      <td>The Shamanov family lives in a two-story house...</td>\n",
              "      <td>The combination of Home’s layered message, fun...</td>\n",
              "      <td>[0.05875, 0.02325, 0.0215, 0.04425, 0.05, 0.02...</td>\n",
              "      <td>[007, 007 (series), 18th century, 1920s, 1930s...</td>\n",
              "    </tr>\n",
              "    <tr>\n",
              "      <th>4557</th>\n",
              "      <td>5955</td>\n",
              "      <td>130578</td>\n",
              "      <td>The Gunman</td>\n",
              "      <td>Jim Terrier (Sean Penn) is a former special fo...</td>\n",
              "      <td>Basically, The Gunman is a movie that asks aud...</td>\n",
              "      <td>[0.154, 0.04025, 0.01975, 0.0185, 0.0285, 0.02...</td>\n",
              "      <td>[007, 007 (series), 18th century, 1920s, 1930s...</td>\n",
              "    </tr>\n",
              "    <tr>\n",
              "      <th>4558</th>\n",
              "      <td>5956</td>\n",
              "      <td>130578</td>\n",
              "      <td>The Gunman</td>\n",
              "      <td>Jim Terrier (Sean Penn) is a former special fo...</td>\n",
              "      <td>Basically, The Gunman is a movie that asks aud...</td>\n",
              "      <td>[0.154, 0.04025, 0.01975, 0.0185, 0.0285, 0.02...</td>\n",
              "      <td>[007, 007 (series), 18th century, 1920s, 1930s...</td>\n",
              "    </tr>\n",
              "    <tr>\n",
              "      <th>4559</th>\n",
              "      <td>5959</td>\n",
              "      <td>131013</td>\n",
              "      <td>Get Hard</td>\n",
              "      <td>James King is an extremely wealthy hedge fund ...</td>\n",
              "      <td>It matches up two comic actors and instead of ...</td>\n",
              "      <td>[0.042, 0.03175, 0.017, 0.055999999999999994, ...</td>\n",
              "      <td>[007, 007 (series), 18th century, 1920s, 1930s...</td>\n",
              "    </tr>\n",
              "    <tr>\n",
              "      <th>4560</th>\n",
              "      <td>5961</td>\n",
              "      <td>131168</td>\n",
              "      <td>Phoenix</td>\n",
              "      <td>In Phoenix, Arizona, Harry Collins is a cop wh...</td>\n",
              "      <td>There is intrigue. There is suspense. Guilt - ...</td>\n",
              "      <td>[0.05975, 0.10375, 0.1785, 0.14875, 0.2775, 0....</td>\n",
              "      <td>[007, 007 (series), 18th century, 1920s, 1930s...</td>\n",
              "    </tr>\n",
              "  </tbody>\n",
              "</table>\n",
              "<p>4561 rows × 7 columns</p>\n",
              "</div>"
            ],
            "text/plain": [
              "      index  movieId                        title                                               Plot                                               text                                          relevance                                                tag\n",
              "0         0        1                    Toy Story  In a world where toys are living things who pr...  With \"instant classic\" written all over it, To...  [0.025, 0.025, 0.05775, 0.09675, 0.14675, 0.21...  [007, 007 (series), 18th century, 1920s, 1930s...\n",
              "1         1        2                      Jumanji  In 1869, near Brantford, New Hampshire, two br...  The result is a thrill ride with enough plunge...  [0.03975, 0.04375, 0.03775, 0.048, 0.11025, 0....  [007, 007 (series), 18th century, 1920s, 1930s...\n",
              "2         2        3             Grumpier Old Men  The feud between Max (Walter Matthau) and John...  Grumpier is a welcome continuation that leaves...  [0.0435, 0.05475, 0.027999999999999997, 0.077,...  [007, 007 (series), 18th century, 1920s, 1930s...\n",
              "3         3        5  Father of the Bride Part II  The film begins five years after the events of...  nan What Meyers and Shyer have accomplished is...  [0.042, 0.05275, 0.05925, 0.03675, 0.07525, 0....  [007, 007 (series), 18th century, 1920s, 1930s...\n",
              "4         4        6                         Heat  Joey Davis is an unemployed former child star ...  Stunningly made and incisively acted by a larg...  [0.02825, 0.0255, 0.0185, 0.0455, 0.09575, 0.0...  [007, 007 (series), 18th century, 1920s, 1930s...\n",
              "...     ...      ...                          ...                                                ...                                                ...                                                ...                                                ...\n",
              "4556   5954   130520                         Home  The Shamanov family lives in a two-story house...  The combination of Home’s layered message, fun...  [0.05875, 0.02325, 0.0215, 0.04425, 0.05, 0.02...  [007, 007 (series), 18th century, 1920s, 1930s...\n",
              "4557   5955   130578                   The Gunman  Jim Terrier (Sean Penn) is a former special fo...  Basically, The Gunman is a movie that asks aud...  [0.154, 0.04025, 0.01975, 0.0185, 0.0285, 0.02...  [007, 007 (series), 18th century, 1920s, 1930s...\n",
              "4558   5956   130578                   The Gunman  Jim Terrier (Sean Penn) is a former special fo...  Basically, The Gunman is a movie that asks aud...  [0.154, 0.04025, 0.01975, 0.0185, 0.0285, 0.02...  [007, 007 (series), 18th century, 1920s, 1930s...\n",
              "4559   5959   131013                     Get Hard  James King is an extremely wealthy hedge fund ...  It matches up two comic actors and instead of ...  [0.042, 0.03175, 0.017, 0.055999999999999994, ...  [007, 007 (series), 18th century, 1920s, 1930s...\n",
              "4560   5961   131168                      Phoenix  In Phoenix, Arizona, Harry Collins is a cop wh...  There is intrigue. There is suspense. Guilt - ...  [0.05975, 0.10375, 0.1785, 0.14875, 0.2775, 0....  [007, 007 (series), 18th century, 1920s, 1930s...\n",
              "\n",
              "[4561 rows x 7 columns]"
            ]
          },
          "metadata": {
            "tags": []
          },
          "execution_count": 45
        }
      ]
    },
    {
      "cell_type": "code",
      "metadata": {
        "id": "TMHAFx3iSynj"
      },
      "source": [
        "import tensorflow as tf\n",
        "from tensorflow.python.keras.preprocessing.text import Tokenizer\n",
        "from tensorflow.python.keras.preprocessing.sequence import pad_sequences\n",
        "from tensorflow.python.keras.layers import TimeDistributed, Dense, LSTM, Embedding, Dropout, Bidirectional, GlobalMaxPool1D\n",
        "from tensorflow.python.keras.models import Model, Sequential\n",
        "from keras.utils.np_utils import to_categorical# -------- other packages ------------------ #\n",
        "import sys\n",
        "import os\n",
        "import pandas as pd\n",
        "import numpy as np\n",
        "from sklearn.model_selection import train_test_split\n",
        "from sklearn.metrics import classification_report\n",
        "from nltk.corpus import stopwords\n",
        "stop_words = set(stopwords.words('english'))\n",
        "import pickle\n",
        "\n",
        "np.set_printoptions(threshold=sys.maxsize)\n",
        "os.environ['TF_CPP_MIN_LOG_LEVEL']='2'\n",
        "\n",
        "pd.set_option('display.max_rows', 500)\n",
        "pd.set_option('display.max_columns', 500)\n",
        "pd.set_option('display.width', 1000)\n",
        "\n",
        "df = pd.read_csv(\"/content/drive/My Drive/wikidata.csv\", delimiter = \"\\t\", names = [\"Sentence\", \"Keyword\"])\n",
        "df['Sentence'] = df['Sentence'].astype(str)\n",
        "df['Keyword'] = df['Keyword'].astype(str)\n",
        "\n",
        "def hasNumbers(inputString):\n",
        "\treturn any(char.isdigit() for char in inputString)\n",
        "\n",
        "def tag_keywords(all_keywords):\n",
        "\ttokenizer = Tokenizer()\n",
        "\ttokenizer.fit_on_texts([all_keywords])\n",
        "\tall_keywords = [i for i in tokenizer.word_index.keys()]\n",
        "\tall_keywords = list(set(all_keywords))\n",
        "\treturn all_keywords\n",
        "\n",
        "# sentence cleaning\n",
        "df['Sentence'] = df['Sentence'].apply(lambda x: x.replace(\" – TechCrunch\",\"\"))\n",
        "df['Keyword'] = df['Keyword'].apply(lambda x: tag_keywords(x))\n",
        "\n",
        "sentence_column = []\n",
        "keyword_column = []\n",
        "for index, row in df.iterrows():\n",
        "\tnew_keywords = []\n",
        "\tsentence = row['Sentence']\n",
        "\tkeywords = row['Keyword']\n",
        "\ttokenizer = Tokenizer()\n",
        "\ttokenizer.fit_on_texts([sentence])\n",
        "\ttokens = [i for i in tokenizer.word_index.keys()]\n",
        "\tfor i in tokens:\n",
        "\t\tif i in keywords:\n",
        "\t\t\tif not hasNumbers(i):\n",
        "\t\t\t\tnew_keywords.append(1)\n",
        "\t\telse:\n",
        "\t\t\tnew_keywords.append(0)\n",
        "\tif sum(new_keywords) != 0:\n",
        "\t\tsentence_column.append(sentence)\n",
        "\t\tkeyword_column.append(new_keywords)\n",
        "\n",
        "\n",
        "tokenizer = Tokenizer(oov_token = \"<UNK>\")\n",
        "tokenizer.fit_on_texts(sentence_column)\n",
        "X = tokenizer.texts_to_sequences(sentence_column)\n",
        "X = pad_sequences(X, padding = \"post\", truncating = \"post\", maxlen = 500, value = 0)\n",
        "y = pad_sequences(keyword_column, padding = \"post\", truncating = \"post\", maxlen = 500, value = 0)\n",
        "y = [to_categorical(i, num_classes = 2) for i in y]\n",
        "embeddings_index = {}\n",
        "# e_dat is an embedding file(glove)\n",
        "f = open('/content/drive/My Drive/glove.6B.200d.txt','r')\n",
        "for line in f:\n",
        "\tvalues = line.split()\n",
        "\tword = values[0]\n",
        "\tcoefs = np.asarray(values[1:], dtype = \"float32\")\n",
        "\tembeddings_index[word] = coefs\n",
        "f.close()\n",
        "\n",
        "print('Found %s word vectors.' % len(embeddings_index))\n",
        "\n",
        "EMBEDDING_DIM = 200\n",
        "word_index = tokenizer.word_index\n",
        "embedding_matrix = np.zeros((len(word_index) + 1, EMBEDDING_DIM))\n",
        "for word, i in word_index.items():\n",
        "\tembedding_vector = embeddings_index.get(word)\n",
        "\tif embedding_vector is not None:\n",
        "\t\tembedding_matrix[i] = embedding_vector\n",
        "\n",
        "\n",
        "X_train, X_test, y_train, y_test = train_test_split(X, y, test_size = 0.20, random_state = 42)\n",
        "# Model creation\n",
        "model = Sequential()\n",
        "model.add(Embedding(len(word_index) + 1, 200, weights = [embedding_matrix]))\n",
        "model.add(Bidirectional(LSTM(128, return_sequences = True, recurrent_dropout = 0.3)))\n",
        "model.add(Dropout(0.3))\n",
        "model.add(Bidirectional(LSTM(128, return_sequences = True, recurrent_dropout = 0.1)))\n",
        "model.add(Dropout(0.5))\n",
        "model.add(TimeDistributed(Dense(2, activation = \"softmax\")))\n",
        "model.compile(loss=\"categorical_crossentropy\", optimizer = \"adam\", metrics = [\"accuracy\"])\n",
        "model.fit(X_train, np.array(y_train), batch_size = 32, epochs = 5, validation_split = 0.1)\n",
        "\n",
        "# model save\n",
        "model_json = model.to_json()\n",
        "with open(\"/content/drive/My Drive/model.json\", \"w\") as json_file:\n",
        "    json_file.write(model_json)\n",
        "model.save_weights(\"/content/drive/My Drive/model.h5\")\n",
        "pickle.dump(tokenizer, open(\"tokenizer.pickle\",\"wb\"))\n",
        "print(\"Saved model to disk\")\n",
        "\n",
        "json_file = open('/content/drive/My Drive/model.json', 'r')\n",
        "loaded_model_json = json_file.read()\n",
        "json_file.close()\n",
        "loaded_model = tf.keras.models.model_from_json(loaded_model_json)\n",
        "# load weights into new model\n",
        "loaded_model.load_weights(\"/content/drive/My Drive/model.h5\")\n",
        "print(\"Loaded model from disk\")\n",
        "\n",
        "test_output = loaded_model.predict(X_test)\n",
        "test_output = np.argmax(test_output, axis = -1)\n",
        "\n",
        "\n",
        "flattened_actual = (np.argmax(np.array(y_test), axis = -1)).flatten()\n",
        "flattened_output = test_output.flatten()\n",
        "\n",
        "print(classification_report(flattened_actual, flattened_output))\n",
        "\n",
        "\n"
      ],
      "execution_count": 10,
      "outputs": []
    },
    {
      "cell_type": "code",
      "metadata": {
        "id": "iNw6lh95kEmG"
      },
      "source": [
        "try:\n",
        "  while True:\n",
        "    input_ = input(\"Type in a headline:\")\n",
        "    new_t = Tokenizer()\n",
        "    new_t.fit_on_texts([input_])\n",
        "    tokens = [i for i in new_t.word_index.keys()]\n",
        "#\t\tprint(tokens)\n",
        "    actual_tokens = new_t.texts_to_sequences([input_])\n",
        "    inv_map_tokens = {v: k for k, v in new_t.word_index.items()}\n",
        "    actual_tokens = [inv_map_tokens[i] for i in actual_tokens[0]]\n",
        "    tokens = actual_tokens\n",
        "    input_ = tokenizer.texts_to_sequences([input_])\n",
        "    input_ = pad_sequences(input_, padding = \"post\", truncating = \"post\", maxlen = 500, value = 0)\n",
        "    output = model.predict([input_])\n",
        "    output = np.argmax(output, axis = -1)\n",
        "    where_ = np.where(output[0] == 1)[0]\n",
        "    output_keywords = np.take(tokens, where_)\n",
        "    lem= WordNetLemmatizer()\n",
        "    output_keywords = [lem.lemmatize(word) for word in output_keywords if not word in set(stopwords.words('english'))]\n",
        "    output_keywords = list(set(output_keywords))\n",
        "#\t\tprint(tokens)\n",
        "#\t\tprint(output)\n",
        "    print(output_keywords)\n",
        "    print(len(output_keywords))\n",
        "except KeyboardInterrupt:\n",
        "\tpass"
      ],
      "execution_count": null,
      "outputs": []
    },
    {
      "cell_type": "code",
      "metadata": {
        "id": "CB7Wic1hU4kK",
        "outputId": "2c682e69-0a2e-400b-8e0a-d750375b1712",
        "colab": {
          "base_uri": "https://localhost:8080/",
          "height": 119
        }
      },
      "source": [
        "import nltk\n",
        "nltk.download('stopwords')\n",
        "nltk.download('wordnet')\n",
        "nltk.download('punkt')\n",
        "\n",
        "from nltk.corpus import stopwords\n",
        "from nltk.stem import WordNetLemmatizer"
      ],
      "execution_count": 38,
      "outputs": [
        {
          "output_type": "stream",
          "text": [
            "[nltk_data] Downloading package stopwords to /root/nltk_data...\n",
            "[nltk_data]   Package stopwords is already up-to-date!\n",
            "[nltk_data] Downloading package wordnet to /root/nltk_data...\n",
            "[nltk_data]   Package wordnet is already up-to-date!\n",
            "[nltk_data] Downloading package punkt to /root/nltk_data...\n",
            "[nltk_data]   Package punkt is already up-to-date!\n"
          ],
          "name": "stdout"
        }
      ]
    },
    {
      "cell_type": "code",
      "metadata": {
        "id": "qnJAzfXuyKL6"
      },
      "source": [
        "import string\n",
        "def clean_text(text):\n",
        "    '''Make text lowercase, remove text in square brackets,remove links,remove punctuation\n",
        "    and remove words containing numbers.'''\n",
        "    text = text.lower()\n",
        "    text = re.sub('\\[.*?\\]', '', text)\n",
        "    text = re.sub('https?://\\S+|www\\.\\S+', '', text)\n",
        "    text = re.sub('<.*?>+', '', text)\n",
        "    text = re.sub('[%s]' % re.escape(string.punctuation), '', text)\n",
        "    text = re.sub('\\n', '', text)\n",
        "    text = re.sub('\\w*\\d\\w*', '', text)\n",
        "    lem= WordNetLemmatizer()\n",
        "    text = text.split()\n",
        "    text = [lem.lemmatize(word) for word in text if not word in set(stopwords.words('english'))]\n",
        "    text = ' '.join(text)\n",
        "    return text"
      ],
      "execution_count": 39,
      "outputs": []
    },
    {
      "cell_type": "code",
      "metadata": {
        "id": "et8wJB4jO3-9"
      },
      "source": [
        "df['text'] = df['text'].apply(lambda x: clean_text(x))\n",
        "df['Plot'] = df['Plot'].apply(lambda x: clean_text(x))"
      ],
      "execution_count": 40,
      "outputs": []
    },
    {
      "cell_type": "code",
      "metadata": {
        "id": "yy4SuzkFmPpr"
      },
      "source": [
        "df['plot'] = df['Plot'] + df['text']"
      ],
      "execution_count": 41,
      "outputs": []
    },
    {
      "cell_type": "code",
      "metadata": {
        "id": "HW9GcskDPGyl",
        "outputId": "3b9b406f-9106-4093-e247-31355ef402b3",
        "colab": {
          "base_uri": "https://localhost:8080/",
          "height": 323
        }
      },
      "source": [
        "df.head()"
      ],
      "execution_count": 42,
      "outputs": [
        {
          "output_type": "execute_result",
          "data": {
            "text/html": [
              "<div>\n",
              "<style scoped>\n",
              "    .dataframe tbody tr th:only-of-type {\n",
              "        vertical-align: middle;\n",
              "    }\n",
              "\n",
              "    .dataframe tbody tr th {\n",
              "        vertical-align: top;\n",
              "    }\n",
              "\n",
              "    .dataframe thead th {\n",
              "        text-align: right;\n",
              "    }\n",
              "</style>\n",
              "<table border=\"1\" class=\"dataframe\">\n",
              "  <thead>\n",
              "    <tr style=\"text-align: right;\">\n",
              "      <th></th>\n",
              "      <th>index</th>\n",
              "      <th>movieId</th>\n",
              "      <th>title</th>\n",
              "      <th>Plot</th>\n",
              "      <th>text</th>\n",
              "      <th>relevance</th>\n",
              "      <th>tag</th>\n",
              "      <th>plot</th>\n",
              "    </tr>\n",
              "  </thead>\n",
              "  <tbody>\n",
              "    <tr>\n",
              "      <th>0</th>\n",
              "      <td>0</td>\n",
              "      <td>1</td>\n",
              "      <td>Toy Story</td>\n",
              "      <td>world toy living thing pretend lifeless human ...</td>\n",
              "      <td>instant classic written toy story first fullle...</td>\n",
              "      <td>[0.025, 0.025, 0.05775, 0.09675, 0.14675, 0.21...</td>\n",
              "      <td>[007, 007 (series), 18th century, 1920s, 1930s...</td>\n",
              "      <td>world toy living thing pretend lifeless human ...</td>\n",
              "    </tr>\n",
              "    <tr>\n",
              "      <th>1</th>\n",
              "      <td>1</td>\n",
              "      <td>2</td>\n",
              "      <td>Jumanji</td>\n",
              "      <td>near brantford new hampshire two brother bury ...</td>\n",
              "      <td>result thrill ride enough plunge turn loopthel...</td>\n",
              "      <td>[0.03975, 0.04375, 0.03775, 0.048, 0.11025, 0....</td>\n",
              "      <td>[007, 007 (series), 18th century, 1920s, 1930s...</td>\n",
              "      <td>near brantford new hampshire two brother bury ...</td>\n",
              "    </tr>\n",
              "    <tr>\n",
              "      <th>2</th>\n",
              "      <td>2</td>\n",
              "      <td>3</td>\n",
              "      <td>Grumpier Old Men</td>\n",
              "      <td>feud max walter matthau john jack lemmon coole...</td>\n",
              "      <td>grumpier welcome continuation leaf wanting ano...</td>\n",
              "      <td>[0.0435, 0.05475, 0.027999999999999997, 0.077,...</td>\n",
              "      <td>[007, 007 (series), 18th century, 1920s, 1930s...</td>\n",
              "      <td>feud max walter matthau john jack lemmon coole...</td>\n",
              "    </tr>\n",
              "    <tr>\n",
              "      <th>3</th>\n",
              "      <td>3</td>\n",
              "      <td>5</td>\n",
              "      <td>Father of the Bride Part II</td>\n",
              "      <td>film begin five year event first one george ba...</td>\n",
              "      <td>nan meyers shyer accomplished create pleasant ...</td>\n",
              "      <td>[0.042, 0.05275, 0.05925, 0.03675, 0.07525, 0....</td>\n",
              "      <td>[007, 007 (series), 18th century, 1920s, 1930s...</td>\n",
              "      <td>film begin five year event first one george ba...</td>\n",
              "    </tr>\n",
              "    <tr>\n",
              "      <th>4</th>\n",
              "      <td>4</td>\n",
              "      <td>6</td>\n",
              "      <td>Heat</td>\n",
              "      <td>joey davis unemployed former child star suppor...</td>\n",
              "      <td>stunningly made incisively acted large terrifi...</td>\n",
              "      <td>[0.02825, 0.0255, 0.0185, 0.0455, 0.09575, 0.0...</td>\n",
              "      <td>[007, 007 (series), 18th century, 1920s, 1930s...</td>\n",
              "      <td>joey davis unemployed former child star suppor...</td>\n",
              "    </tr>\n",
              "  </tbody>\n",
              "</table>\n",
              "</div>"
            ],
            "text/plain": [
              "   index  ...                                               plot\n",
              "0      0  ...  world toy living thing pretend lifeless human ...\n",
              "1      1  ...  near brantford new hampshire two brother bury ...\n",
              "2      2  ...  feud max walter matthau john jack lemmon coole...\n",
              "3      3  ...  film begin five year event first one george ba...\n",
              "4      4  ...  joey davis unemployed former child star suppor...\n",
              "\n",
              "[5 rows x 8 columns]"
            ]
          },
          "metadata": {
            "tags": []
          },
          "execution_count": 42
        }
      ]
    },
    {
      "cell_type": "code",
      "metadata": {
        "id": "d6L9419JNeFO"
      },
      "source": [
        "plot = df['plot'].values\n",
        "score = df['relevance'].values"
      ],
      "execution_count": 43,
      "outputs": []
    },
    {
      "cell_type": "code",
      "metadata": {
        "id": "Dz30rrlbVi9-"
      },
      "source": [
        "word_tokenizer = Tokenizer()\n",
        "word_tokenizer.fit_on_texts(plot)\n",
        "vocab_length = len(word_tokenizer.word_index) + 1"
      ],
      "execution_count": 44,
      "outputs": []
    },
    {
      "cell_type": "code",
      "metadata": {
        "id": "9dVdMAiNbAzW"
      },
      "source": [
        "longest_train = max(plot, key=lambda sentence: len(word_tokenize(sentence)))\n",
        "length_long_sentence = len(word_tokenize(longest_train))\n",
        "padded_sentences = pad_sequences(word_tokenizer.texts_to_sequences(plot), 500, padding='post')"
      ],
      "execution_count": 45,
      "outputs": []
    },
    {
      "cell_type": "code",
      "metadata": {
        "id": "vELqWTIAbA2B",
        "outputId": "926f2652-06e9-4a5a-e7c2-af0fc0d57b31",
        "colab": {
          "base_uri": "https://localhost:8080/",
          "height": 34
        }
      },
      "source": [
        "embeddings_index = {}\n",
        "# e_dat is an embedding file(glove)\n",
        "f = open('/content/drive/My Drive/glove.6B.200d.txt','r')\n",
        "for line in f:\n",
        "\tvalues = line.split()\n",
        "\tword = values[0]\n",
        "\tcoefs = np.asarray(values[1:], dtype = \"float32\")\n",
        "\tembeddings_index[word] = coefs\n",
        "f.close()\n",
        "\n",
        "print('Found %s word vectors.' % len(embeddings_index))"
      ],
      "execution_count": 46,
      "outputs": [
        {
          "output_type": "stream",
          "text": [
            "Found 400000 word vectors.\n"
          ],
          "name": "stdout"
        }
      ]
    },
    {
      "cell_type": "code",
      "metadata": {
        "id": "hfbMAoXyJwPH"
      },
      "source": [
        "EMBEDDING_DIM = 200\n",
        "word_index = word_tokenizer.word_index\n",
        "embedding_matrix = np.zeros((len(word_index) + 1, EMBEDDING_DIM))\n",
        "for word, i in word_index.items():\n",
        "\tembedding_vector = embeddings_index.get(word)\n",
        "\tif embedding_vector is not None:\n",
        "\t\tembedding_matrix[i] = embedding_vector"
      ],
      "execution_count": 47,
      "outputs": []
    },
    {
      "cell_type": "code",
      "metadata": {
        "id": "LuKOqfUwVJ8o"
      },
      "source": [
        "X_train, X_test, y_train, y_test = train_test_split( padded_sentences, score, test_size=0.1, random_state=0)"
      ],
      "execution_count": 48,
      "outputs": []
    },
    {
      "cell_type": "code",
      "metadata": {
        "id": "OXhNQwcCNeR3"
      },
      "source": [
        "def BLSTM():\n",
        "    model = Sequential()\n",
        "    model.add(Embedding(input_dim=len(word_index)+1, \n",
        "                        output_dim=200, \n",
        "                        weights = [embedding_matrix],\n",
        "                        input_length = 500))\n",
        "    model.add(Bidirectional(LSTM(500, return_sequences = True, recurrent_dropout=0.2)))\n",
        "    model.add(GlobalMaxPool1D())\n",
        "    model.add(BatchNormalization())\n",
        "    model.add(Dropout(0.5))\n",
        "    model.add(Dense(2048, activation = \"relu\"))\n",
        "    model.add(Dropout(0.5))\n",
        "    model.add(Dense(1128, activation = 'sigmoid'))\n",
        "    model.compile(optimizer='adam', loss='binary_crossentropy', metrics=['accuracy'])\n",
        "    return model\n"
      ],
      "execution_count": 58,
      "outputs": []
    },
    {
      "cell_type": "code",
      "metadata": {
        "id": "AMoNq_WM6QTf"
      },
      "source": [
        "def build_lrfn(lr_start=0.00001, lr_max=0.000075, \n",
        "               lr_min=0.000001, lr_rampup_epochs=20, \n",
        "               lr_sustain_epochs=0, lr_exp_decay=.8):\n",
        "    \n",
        "    def lrfn(epoch):\n",
        "        if epoch < lr_rampup_epochs:\n",
        "            lr = (lr_max - lr_start) / lr_rampup_epochs * epoch + lr_start\n",
        "        elif epoch < lr_rampup_epochs + lr_sustain_epochs:\n",
        "            lr = lr_max\n",
        "        else:\n",
        "            lr = (lr_max - lr_min) * lr_exp_decay**(epoch - lr_rampup_epochs - lr_sustain_epochs) + lr_min\n",
        "        return lr\n",
        "    \n",
        "    return lrfn\n",
        "\n",
        "lrfn = build_lrfn()\n",
        "lr_schedule = LearningRateScheduler(lrfn, verbose=1)"
      ],
      "execution_count": 50,
      "outputs": []
    },
    {
      "cell_type": "code",
      "metadata": {
        "id": "yeiT43MENegr",
        "outputId": "cfe69806-ae5e-4b35-f63b-ee30a9b5ed00",
        "colab": {
          "base_uri": "https://localhost:8080/",
          "height": 425
        }
      },
      "source": [
        "model = BLSTM()\n",
        "checkpoint = ModelCheckpoint(\n",
        "    '/content/drive/My Drive/model_tag.h5', \n",
        "    monitor = 'val_loss', \n",
        "    verbose = 1, \n",
        "    save_best_only = True\n",
        ")\n",
        "\n",
        "history = model.fit(\n",
        "    X_train, \n",
        "    np.stack(y_train),\n",
        "    epochs = 7,\n",
        "    batch_size = 64,\n",
        "    validation_data = [X_test, y_test],\n",
        "    verbose = 1,\n",
        "    callbacks = [checkpoint, lr_schedule]\n",
        ")"
      ],
      "execution_count": 59,
      "outputs": [
        {
          "output_type": "stream",
          "text": [
            "\n",
            "Epoch 00001: LearningRateScheduler reducing learning rate to 1e-05.\n",
            "Epoch 1/7\n",
            "65/65 [==============================] - ETA: 0s - loss: 0.0481 - accuracy: 0.0027"
          ],
          "name": "stdout"
        },
        {
          "output_type": "error",
          "ename": "ValueError",
          "evalue": "ignored",
          "traceback": [
            "\u001b[0;31m---------------------------------------------------------------------------\u001b[0m",
            "\u001b[0;31mValueError\u001b[0m                                Traceback (most recent call last)",
            "\u001b[0;32m<ipython-input-59-34c12b2a497f>\u001b[0m in \u001b[0;36m<module>\u001b[0;34m()\u001b[0m\n\u001b[1;32m      7\u001b[0m     \u001b[0mvalidation_data\u001b[0m \u001b[0;34m=\u001b[0m \u001b[0;34m[\u001b[0m\u001b[0mX_test\u001b[0m\u001b[0;34m,\u001b[0m \u001b[0my_test\u001b[0m\u001b[0;34m]\u001b[0m\u001b[0;34m,\u001b[0m\u001b[0;34m\u001b[0m\u001b[0;34m\u001b[0m\u001b[0m\n\u001b[1;32m      8\u001b[0m     \u001b[0mverbose\u001b[0m \u001b[0;34m=\u001b[0m \u001b[0;36m1\u001b[0m\u001b[0;34m,\u001b[0m\u001b[0;34m\u001b[0m\u001b[0;34m\u001b[0m\u001b[0m\n\u001b[0;32m----> 9\u001b[0;31m     \u001b[0mcallbacks\u001b[0m \u001b[0;34m=\u001b[0m \u001b[0;34m[\u001b[0m\u001b[0mcheckpoint\u001b[0m\u001b[0;34m,\u001b[0m \u001b[0mlr_schedule\u001b[0m\u001b[0;34m]\u001b[0m\u001b[0;34m\u001b[0m\u001b[0;34m\u001b[0m\u001b[0m\n\u001b[0m\u001b[1;32m     10\u001b[0m )\n",
            "\u001b[0;32m/usr/local/lib/python3.6/dist-packages/tensorflow/python/keras/engine/training.py\u001b[0m in \u001b[0;36m_method_wrapper\u001b[0;34m(self, *args, **kwargs)\u001b[0m\n\u001b[1;32m    106\u001b[0m   \u001b[0;32mdef\u001b[0m \u001b[0m_method_wrapper\u001b[0m\u001b[0;34m(\u001b[0m\u001b[0mself\u001b[0m\u001b[0;34m,\u001b[0m \u001b[0;34m*\u001b[0m\u001b[0margs\u001b[0m\u001b[0;34m,\u001b[0m \u001b[0;34m**\u001b[0m\u001b[0mkwargs\u001b[0m\u001b[0;34m)\u001b[0m\u001b[0;34m:\u001b[0m\u001b[0;34m\u001b[0m\u001b[0;34m\u001b[0m\u001b[0m\n\u001b[1;32m    107\u001b[0m     \u001b[0;32mif\u001b[0m \u001b[0;32mnot\u001b[0m \u001b[0mself\u001b[0m\u001b[0;34m.\u001b[0m\u001b[0m_in_multi_worker_mode\u001b[0m\u001b[0;34m(\u001b[0m\u001b[0;34m)\u001b[0m\u001b[0;34m:\u001b[0m  \u001b[0;31m# pylint: disable=protected-access\u001b[0m\u001b[0;34m\u001b[0m\u001b[0;34m\u001b[0m\u001b[0m\n\u001b[0;32m--> 108\u001b[0;31m       \u001b[0;32mreturn\u001b[0m \u001b[0mmethod\u001b[0m\u001b[0;34m(\u001b[0m\u001b[0mself\u001b[0m\u001b[0;34m,\u001b[0m \u001b[0;34m*\u001b[0m\u001b[0margs\u001b[0m\u001b[0;34m,\u001b[0m \u001b[0;34m**\u001b[0m\u001b[0mkwargs\u001b[0m\u001b[0;34m)\u001b[0m\u001b[0;34m\u001b[0m\u001b[0;34m\u001b[0m\u001b[0m\n\u001b[0m\u001b[1;32m    109\u001b[0m \u001b[0;34m\u001b[0m\u001b[0m\n\u001b[1;32m    110\u001b[0m     \u001b[0;31m# Running inside `run_distribute_coordinator` already.\u001b[0m\u001b[0;34m\u001b[0m\u001b[0;34m\u001b[0m\u001b[0;34m\u001b[0m\u001b[0m\n",
            "\u001b[0;32m/usr/local/lib/python3.6/dist-packages/tensorflow/python/keras/engine/training.py\u001b[0m in \u001b[0;36mfit\u001b[0;34m(self, x, y, batch_size, epochs, verbose, callbacks, validation_split, validation_data, shuffle, class_weight, sample_weight, initial_epoch, steps_per_epoch, validation_steps, validation_batch_size, validation_freq, max_queue_size, workers, use_multiprocessing)\u001b[0m\n\u001b[1;32m   1120\u001b[0m                 \u001b[0muse_multiprocessing\u001b[0m\u001b[0;34m=\u001b[0m\u001b[0muse_multiprocessing\u001b[0m\u001b[0;34m,\u001b[0m\u001b[0;34m\u001b[0m\u001b[0;34m\u001b[0m\u001b[0m\n\u001b[1;32m   1121\u001b[0m                 \u001b[0mmodel\u001b[0m\u001b[0;34m=\u001b[0m\u001b[0mself\u001b[0m\u001b[0;34m,\u001b[0m\u001b[0;34m\u001b[0m\u001b[0;34m\u001b[0m\u001b[0m\n\u001b[0;32m-> 1122\u001b[0;31m                 steps_per_execution=self._steps_per_execution)\n\u001b[0m\u001b[1;32m   1123\u001b[0m           val_logs = self.evaluate(\n\u001b[1;32m   1124\u001b[0m               \u001b[0mx\u001b[0m\u001b[0;34m=\u001b[0m\u001b[0mval_x\u001b[0m\u001b[0;34m,\u001b[0m\u001b[0;34m\u001b[0m\u001b[0;34m\u001b[0m\u001b[0m\n",
            "\u001b[0;32m/usr/local/lib/python3.6/dist-packages/tensorflow/python/keras/engine/data_adapter.py\u001b[0m in \u001b[0;36m__init__\u001b[0;34m(self, x, y, sample_weight, batch_size, steps_per_epoch, initial_epoch, epochs, shuffle, class_weight, max_queue_size, workers, use_multiprocessing, model, steps_per_execution)\u001b[0m\n\u001b[1;32m   1115\u001b[0m         \u001b[0muse_multiprocessing\u001b[0m\u001b[0;34m=\u001b[0m\u001b[0muse_multiprocessing\u001b[0m\u001b[0;34m,\u001b[0m\u001b[0;34m\u001b[0m\u001b[0;34m\u001b[0m\u001b[0m\n\u001b[1;32m   1116\u001b[0m         \u001b[0mdistribution_strategy\u001b[0m\u001b[0;34m=\u001b[0m\u001b[0mds_context\u001b[0m\u001b[0;34m.\u001b[0m\u001b[0mget_strategy\u001b[0m\u001b[0;34m(\u001b[0m\u001b[0;34m)\u001b[0m\u001b[0;34m,\u001b[0m\u001b[0;34m\u001b[0m\u001b[0;34m\u001b[0m\u001b[0m\n\u001b[0;32m-> 1117\u001b[0;31m         model=model)\n\u001b[0m\u001b[1;32m   1118\u001b[0m \u001b[0;34m\u001b[0m\u001b[0m\n\u001b[1;32m   1119\u001b[0m     \u001b[0mstrategy\u001b[0m \u001b[0;34m=\u001b[0m \u001b[0mds_context\u001b[0m\u001b[0;34m.\u001b[0m\u001b[0mget_strategy\u001b[0m\u001b[0;34m(\u001b[0m\u001b[0;34m)\u001b[0m\u001b[0;34m\u001b[0m\u001b[0;34m\u001b[0m\u001b[0m\n",
            "\u001b[0;32m/usr/local/lib/python3.6/dist-packages/tensorflow/python/keras/engine/data_adapter.py\u001b[0m in \u001b[0;36m__init__\u001b[0;34m(self, x, y, sample_weights, sample_weight_modes, batch_size, epochs, steps, shuffle, **kwargs)\u001b[0m\n\u001b[1;32m    263\u001b[0m                **kwargs):\n\u001b[1;32m    264\u001b[0m     \u001b[0msuper\u001b[0m\u001b[0;34m(\u001b[0m\u001b[0mTensorLikeDataAdapter\u001b[0m\u001b[0;34m,\u001b[0m \u001b[0mself\u001b[0m\u001b[0;34m)\u001b[0m\u001b[0;34m.\u001b[0m\u001b[0m__init__\u001b[0m\u001b[0;34m(\u001b[0m\u001b[0mx\u001b[0m\u001b[0;34m,\u001b[0m \u001b[0my\u001b[0m\u001b[0;34m,\u001b[0m \u001b[0;34m**\u001b[0m\u001b[0mkwargs\u001b[0m\u001b[0;34m)\u001b[0m\u001b[0;34m\u001b[0m\u001b[0;34m\u001b[0m\u001b[0m\n\u001b[0;32m--> 265\u001b[0;31m     \u001b[0mx\u001b[0m\u001b[0;34m,\u001b[0m \u001b[0my\u001b[0m\u001b[0;34m,\u001b[0m \u001b[0msample_weights\u001b[0m \u001b[0;34m=\u001b[0m \u001b[0m_process_tensorlike\u001b[0m\u001b[0;34m(\u001b[0m\u001b[0;34m(\u001b[0m\u001b[0mx\u001b[0m\u001b[0;34m,\u001b[0m \u001b[0my\u001b[0m\u001b[0;34m,\u001b[0m \u001b[0msample_weights\u001b[0m\u001b[0;34m)\u001b[0m\u001b[0;34m)\u001b[0m\u001b[0;34m\u001b[0m\u001b[0;34m\u001b[0m\u001b[0m\n\u001b[0m\u001b[1;32m    266\u001b[0m     sample_weight_modes = broadcast_sample_weight_modes(\n\u001b[1;32m    267\u001b[0m         sample_weights, sample_weight_modes)\n",
            "\u001b[0;32m/usr/local/lib/python3.6/dist-packages/tensorflow/python/keras/engine/data_adapter.py\u001b[0m in \u001b[0;36m_process_tensorlike\u001b[0;34m(inputs)\u001b[0m\n\u001b[1;32m   1019\u001b[0m     \u001b[0;32mreturn\u001b[0m \u001b[0mx\u001b[0m\u001b[0;34m\u001b[0m\u001b[0;34m\u001b[0m\u001b[0m\n\u001b[1;32m   1020\u001b[0m \u001b[0;34m\u001b[0m\u001b[0m\n\u001b[0;32m-> 1021\u001b[0;31m   \u001b[0minputs\u001b[0m \u001b[0;34m=\u001b[0m \u001b[0mnest\u001b[0m\u001b[0;34m.\u001b[0m\u001b[0mmap_structure\u001b[0m\u001b[0;34m(\u001b[0m\u001b[0m_convert_numpy_and_scipy\u001b[0m\u001b[0;34m,\u001b[0m \u001b[0minputs\u001b[0m\u001b[0;34m)\u001b[0m\u001b[0;34m\u001b[0m\u001b[0;34m\u001b[0m\u001b[0m\n\u001b[0m\u001b[1;32m   1022\u001b[0m   \u001b[0;32mreturn\u001b[0m \u001b[0mnest\u001b[0m\u001b[0;34m.\u001b[0m\u001b[0mlist_to_tuple\u001b[0m\u001b[0;34m(\u001b[0m\u001b[0minputs\u001b[0m\u001b[0;34m)\u001b[0m\u001b[0;34m\u001b[0m\u001b[0;34m\u001b[0m\u001b[0m\n\u001b[1;32m   1023\u001b[0m \u001b[0;34m\u001b[0m\u001b[0m\n",
            "\u001b[0;32m/usr/local/lib/python3.6/dist-packages/tensorflow/python/util/nest.py\u001b[0m in \u001b[0;36mmap_structure\u001b[0;34m(func, *structure, **kwargs)\u001b[0m\n\u001b[1;32m    633\u001b[0m \u001b[0;34m\u001b[0m\u001b[0m\n\u001b[1;32m    634\u001b[0m   return pack_sequence_as(\n\u001b[0;32m--> 635\u001b[0;31m       \u001b[0mstructure\u001b[0m\u001b[0;34m[\u001b[0m\u001b[0;36m0\u001b[0m\u001b[0;34m]\u001b[0m\u001b[0;34m,\u001b[0m \u001b[0;34m[\u001b[0m\u001b[0mfunc\u001b[0m\u001b[0;34m(\u001b[0m\u001b[0;34m*\u001b[0m\u001b[0mx\u001b[0m\u001b[0;34m)\u001b[0m \u001b[0;32mfor\u001b[0m \u001b[0mx\u001b[0m \u001b[0;32min\u001b[0m \u001b[0mentries\u001b[0m\u001b[0;34m]\u001b[0m\u001b[0;34m,\u001b[0m\u001b[0;34m\u001b[0m\u001b[0;34m\u001b[0m\u001b[0m\n\u001b[0m\u001b[1;32m    636\u001b[0m       expand_composites=expand_composites)\n\u001b[1;32m    637\u001b[0m \u001b[0;34m\u001b[0m\u001b[0m\n",
            "\u001b[0;32m/usr/local/lib/python3.6/dist-packages/tensorflow/python/util/nest.py\u001b[0m in \u001b[0;36m<listcomp>\u001b[0;34m(.0)\u001b[0m\n\u001b[1;32m    633\u001b[0m \u001b[0;34m\u001b[0m\u001b[0m\n\u001b[1;32m    634\u001b[0m   return pack_sequence_as(\n\u001b[0;32m--> 635\u001b[0;31m       \u001b[0mstructure\u001b[0m\u001b[0;34m[\u001b[0m\u001b[0;36m0\u001b[0m\u001b[0;34m]\u001b[0m\u001b[0;34m,\u001b[0m \u001b[0;34m[\u001b[0m\u001b[0mfunc\u001b[0m\u001b[0;34m(\u001b[0m\u001b[0;34m*\u001b[0m\u001b[0mx\u001b[0m\u001b[0;34m)\u001b[0m \u001b[0;32mfor\u001b[0m \u001b[0mx\u001b[0m \u001b[0;32min\u001b[0m \u001b[0mentries\u001b[0m\u001b[0;34m]\u001b[0m\u001b[0;34m,\u001b[0m\u001b[0;34m\u001b[0m\u001b[0;34m\u001b[0m\u001b[0m\n\u001b[0m\u001b[1;32m    636\u001b[0m       expand_composites=expand_composites)\n\u001b[1;32m    637\u001b[0m \u001b[0;34m\u001b[0m\u001b[0m\n",
            "\u001b[0;32m/usr/local/lib/python3.6/dist-packages/tensorflow/python/keras/engine/data_adapter.py\u001b[0m in \u001b[0;36m_convert_numpy_and_scipy\u001b[0;34m(x)\u001b[0m\n\u001b[1;32m   1014\u001b[0m       \u001b[0;32mif\u001b[0m \u001b[0missubclass\u001b[0m\u001b[0;34m(\u001b[0m\u001b[0mx\u001b[0m\u001b[0;34m.\u001b[0m\u001b[0mdtype\u001b[0m\u001b[0;34m.\u001b[0m\u001b[0mtype\u001b[0m\u001b[0;34m,\u001b[0m \u001b[0mnp\u001b[0m\u001b[0;34m.\u001b[0m\u001b[0mfloating\u001b[0m\u001b[0;34m)\u001b[0m\u001b[0;34m:\u001b[0m\u001b[0;34m\u001b[0m\u001b[0;34m\u001b[0m\u001b[0m\n\u001b[1;32m   1015\u001b[0m         \u001b[0mdtype\u001b[0m \u001b[0;34m=\u001b[0m \u001b[0mbackend\u001b[0m\u001b[0;34m.\u001b[0m\u001b[0mfloatx\u001b[0m\u001b[0;34m(\u001b[0m\u001b[0;34m)\u001b[0m\u001b[0;34m\u001b[0m\u001b[0;34m\u001b[0m\u001b[0m\n\u001b[0;32m-> 1016\u001b[0;31m       \u001b[0;32mreturn\u001b[0m \u001b[0mops\u001b[0m\u001b[0;34m.\u001b[0m\u001b[0mconvert_to_tensor\u001b[0m\u001b[0;34m(\u001b[0m\u001b[0mx\u001b[0m\u001b[0;34m,\u001b[0m \u001b[0mdtype\u001b[0m\u001b[0;34m=\u001b[0m\u001b[0mdtype\u001b[0m\u001b[0;34m)\u001b[0m\u001b[0;34m\u001b[0m\u001b[0;34m\u001b[0m\u001b[0m\n\u001b[0m\u001b[1;32m   1017\u001b[0m     \u001b[0;32melif\u001b[0m \u001b[0mscipy_sparse\u001b[0m \u001b[0;32mand\u001b[0m \u001b[0mscipy_sparse\u001b[0m\u001b[0;34m.\u001b[0m\u001b[0missparse\u001b[0m\u001b[0;34m(\u001b[0m\u001b[0mx\u001b[0m\u001b[0;34m)\u001b[0m\u001b[0;34m:\u001b[0m\u001b[0;34m\u001b[0m\u001b[0;34m\u001b[0m\u001b[0m\n\u001b[1;32m   1018\u001b[0m       \u001b[0;32mreturn\u001b[0m \u001b[0m_scipy_sparse_to_sparse_tensor\u001b[0m\u001b[0;34m(\u001b[0m\u001b[0mx\u001b[0m\u001b[0;34m)\u001b[0m\u001b[0;34m\u001b[0m\u001b[0;34m\u001b[0m\u001b[0m\n",
            "\u001b[0;32m/usr/local/lib/python3.6/dist-packages/tensorflow/python/framework/ops.py\u001b[0m in \u001b[0;36mconvert_to_tensor\u001b[0;34m(value, dtype, name, as_ref, preferred_dtype, dtype_hint, ctx, accepted_result_types)\u001b[0m\n\u001b[1;32m   1497\u001b[0m \u001b[0;34m\u001b[0m\u001b[0m\n\u001b[1;32m   1498\u001b[0m     \u001b[0;32mif\u001b[0m \u001b[0mret\u001b[0m \u001b[0;32mis\u001b[0m \u001b[0;32mNone\u001b[0m\u001b[0;34m:\u001b[0m\u001b[0;34m\u001b[0m\u001b[0;34m\u001b[0m\u001b[0m\n\u001b[0;32m-> 1499\u001b[0;31m       \u001b[0mret\u001b[0m \u001b[0;34m=\u001b[0m \u001b[0mconversion_func\u001b[0m\u001b[0;34m(\u001b[0m\u001b[0mvalue\u001b[0m\u001b[0;34m,\u001b[0m \u001b[0mdtype\u001b[0m\u001b[0;34m=\u001b[0m\u001b[0mdtype\u001b[0m\u001b[0;34m,\u001b[0m \u001b[0mname\u001b[0m\u001b[0;34m=\u001b[0m\u001b[0mname\u001b[0m\u001b[0;34m,\u001b[0m \u001b[0mas_ref\u001b[0m\u001b[0;34m=\u001b[0m\u001b[0mas_ref\u001b[0m\u001b[0;34m)\u001b[0m\u001b[0;34m\u001b[0m\u001b[0;34m\u001b[0m\u001b[0m\n\u001b[0m\u001b[1;32m   1500\u001b[0m \u001b[0;34m\u001b[0m\u001b[0m\n\u001b[1;32m   1501\u001b[0m     \u001b[0;32mif\u001b[0m \u001b[0mret\u001b[0m \u001b[0;32mis\u001b[0m \u001b[0mNotImplemented\u001b[0m\u001b[0;34m:\u001b[0m\u001b[0;34m\u001b[0m\u001b[0;34m\u001b[0m\u001b[0m\n",
            "\u001b[0;32m/usr/local/lib/python3.6/dist-packages/tensorflow/python/framework/tensor_conversion_registry.py\u001b[0m in \u001b[0;36m_default_conversion_function\u001b[0;34m(***failed resolving arguments***)\u001b[0m\n\u001b[1;32m     50\u001b[0m \u001b[0;32mdef\u001b[0m \u001b[0m_default_conversion_function\u001b[0m\u001b[0;34m(\u001b[0m\u001b[0mvalue\u001b[0m\u001b[0;34m,\u001b[0m \u001b[0mdtype\u001b[0m\u001b[0;34m,\u001b[0m \u001b[0mname\u001b[0m\u001b[0;34m,\u001b[0m \u001b[0mas_ref\u001b[0m\u001b[0;34m)\u001b[0m\u001b[0;34m:\u001b[0m\u001b[0;34m\u001b[0m\u001b[0;34m\u001b[0m\u001b[0m\n\u001b[1;32m     51\u001b[0m   \u001b[0;32mdel\u001b[0m \u001b[0mas_ref\u001b[0m  \u001b[0;31m# Unused.\u001b[0m\u001b[0;34m\u001b[0m\u001b[0;34m\u001b[0m\u001b[0m\n\u001b[0;32m---> 52\u001b[0;31m   \u001b[0;32mreturn\u001b[0m \u001b[0mconstant_op\u001b[0m\u001b[0;34m.\u001b[0m\u001b[0mconstant\u001b[0m\u001b[0;34m(\u001b[0m\u001b[0mvalue\u001b[0m\u001b[0;34m,\u001b[0m \u001b[0mdtype\u001b[0m\u001b[0;34m,\u001b[0m \u001b[0mname\u001b[0m\u001b[0;34m=\u001b[0m\u001b[0mname\u001b[0m\u001b[0;34m)\u001b[0m\u001b[0;34m\u001b[0m\u001b[0;34m\u001b[0m\u001b[0m\n\u001b[0m\u001b[1;32m     53\u001b[0m \u001b[0;34m\u001b[0m\u001b[0m\n\u001b[1;32m     54\u001b[0m \u001b[0;34m\u001b[0m\u001b[0m\n",
            "\u001b[0;32m/usr/local/lib/python3.6/dist-packages/tensorflow/python/framework/constant_op.py\u001b[0m in \u001b[0;36mconstant\u001b[0;34m(value, dtype, shape, name)\u001b[0m\n\u001b[1;32m    262\u001b[0m   \"\"\"\n\u001b[1;32m    263\u001b[0m   return _constant_impl(value, dtype, shape, name, verify_shape=False,\n\u001b[0;32m--> 264\u001b[0;31m                         allow_broadcast=True)\n\u001b[0m\u001b[1;32m    265\u001b[0m \u001b[0;34m\u001b[0m\u001b[0m\n\u001b[1;32m    266\u001b[0m \u001b[0;34m\u001b[0m\u001b[0m\n",
            "\u001b[0;32m/usr/local/lib/python3.6/dist-packages/tensorflow/python/framework/constant_op.py\u001b[0m in \u001b[0;36m_constant_impl\u001b[0;34m(value, dtype, shape, name, verify_shape, allow_broadcast)\u001b[0m\n\u001b[1;32m    273\u001b[0m       \u001b[0;32mwith\u001b[0m \u001b[0mtrace\u001b[0m\u001b[0;34m.\u001b[0m\u001b[0mTrace\u001b[0m\u001b[0;34m(\u001b[0m\u001b[0;34m\"tf.constant\"\u001b[0m\u001b[0;34m)\u001b[0m\u001b[0;34m:\u001b[0m\u001b[0;34m\u001b[0m\u001b[0;34m\u001b[0m\u001b[0m\n\u001b[1;32m    274\u001b[0m         \u001b[0;32mreturn\u001b[0m \u001b[0m_constant_eager_impl\u001b[0m\u001b[0;34m(\u001b[0m\u001b[0mctx\u001b[0m\u001b[0;34m,\u001b[0m \u001b[0mvalue\u001b[0m\u001b[0;34m,\u001b[0m \u001b[0mdtype\u001b[0m\u001b[0;34m,\u001b[0m \u001b[0mshape\u001b[0m\u001b[0;34m,\u001b[0m \u001b[0mverify_shape\u001b[0m\u001b[0;34m)\u001b[0m\u001b[0;34m\u001b[0m\u001b[0;34m\u001b[0m\u001b[0m\n\u001b[0;32m--> 275\u001b[0;31m     \u001b[0;32mreturn\u001b[0m \u001b[0m_constant_eager_impl\u001b[0m\u001b[0;34m(\u001b[0m\u001b[0mctx\u001b[0m\u001b[0;34m,\u001b[0m \u001b[0mvalue\u001b[0m\u001b[0;34m,\u001b[0m \u001b[0mdtype\u001b[0m\u001b[0;34m,\u001b[0m \u001b[0mshape\u001b[0m\u001b[0;34m,\u001b[0m \u001b[0mverify_shape\u001b[0m\u001b[0;34m)\u001b[0m\u001b[0;34m\u001b[0m\u001b[0;34m\u001b[0m\u001b[0m\n\u001b[0m\u001b[1;32m    276\u001b[0m \u001b[0;34m\u001b[0m\u001b[0m\n\u001b[1;32m    277\u001b[0m   \u001b[0mg\u001b[0m \u001b[0;34m=\u001b[0m \u001b[0mops\u001b[0m\u001b[0;34m.\u001b[0m\u001b[0mget_default_graph\u001b[0m\u001b[0;34m(\u001b[0m\u001b[0;34m)\u001b[0m\u001b[0;34m\u001b[0m\u001b[0;34m\u001b[0m\u001b[0m\n",
            "\u001b[0;32m/usr/local/lib/python3.6/dist-packages/tensorflow/python/framework/constant_op.py\u001b[0m in \u001b[0;36m_constant_eager_impl\u001b[0;34m(ctx, value, dtype, shape, verify_shape)\u001b[0m\n\u001b[1;32m    298\u001b[0m \u001b[0;32mdef\u001b[0m \u001b[0m_constant_eager_impl\u001b[0m\u001b[0;34m(\u001b[0m\u001b[0mctx\u001b[0m\u001b[0;34m,\u001b[0m \u001b[0mvalue\u001b[0m\u001b[0;34m,\u001b[0m \u001b[0mdtype\u001b[0m\u001b[0;34m,\u001b[0m \u001b[0mshape\u001b[0m\u001b[0;34m,\u001b[0m \u001b[0mverify_shape\u001b[0m\u001b[0;34m)\u001b[0m\u001b[0;34m:\u001b[0m\u001b[0;34m\u001b[0m\u001b[0;34m\u001b[0m\u001b[0m\n\u001b[1;32m    299\u001b[0m   \u001b[0;34m\"\"\"Implementation of eager constant.\"\"\"\u001b[0m\u001b[0;34m\u001b[0m\u001b[0;34m\u001b[0m\u001b[0m\n\u001b[0;32m--> 300\u001b[0;31m   \u001b[0mt\u001b[0m \u001b[0;34m=\u001b[0m \u001b[0mconvert_to_eager_tensor\u001b[0m\u001b[0;34m(\u001b[0m\u001b[0mvalue\u001b[0m\u001b[0;34m,\u001b[0m \u001b[0mctx\u001b[0m\u001b[0;34m,\u001b[0m \u001b[0mdtype\u001b[0m\u001b[0;34m)\u001b[0m\u001b[0;34m\u001b[0m\u001b[0;34m\u001b[0m\u001b[0m\n\u001b[0m\u001b[1;32m    301\u001b[0m   \u001b[0;32mif\u001b[0m \u001b[0mshape\u001b[0m \u001b[0;32mis\u001b[0m \u001b[0;32mNone\u001b[0m\u001b[0;34m:\u001b[0m\u001b[0;34m\u001b[0m\u001b[0;34m\u001b[0m\u001b[0m\n\u001b[1;32m    302\u001b[0m     \u001b[0;32mreturn\u001b[0m \u001b[0mt\u001b[0m\u001b[0;34m\u001b[0m\u001b[0;34m\u001b[0m\u001b[0m\n",
            "\u001b[0;32m/usr/local/lib/python3.6/dist-packages/tensorflow/python/framework/constant_op.py\u001b[0m in \u001b[0;36mconvert_to_eager_tensor\u001b[0;34m(value, ctx, dtype)\u001b[0m\n\u001b[1;32m     96\u001b[0m       \u001b[0mdtype\u001b[0m \u001b[0;34m=\u001b[0m \u001b[0mdtypes\u001b[0m\u001b[0;34m.\u001b[0m\u001b[0mas_dtype\u001b[0m\u001b[0;34m(\u001b[0m\u001b[0mdtype\u001b[0m\u001b[0;34m)\u001b[0m\u001b[0;34m.\u001b[0m\u001b[0mas_datatype_enum\u001b[0m\u001b[0;34m\u001b[0m\u001b[0;34m\u001b[0m\u001b[0m\n\u001b[1;32m     97\u001b[0m   \u001b[0mctx\u001b[0m\u001b[0;34m.\u001b[0m\u001b[0mensure_initialized\u001b[0m\u001b[0;34m(\u001b[0m\u001b[0;34m)\u001b[0m\u001b[0;34m\u001b[0m\u001b[0;34m\u001b[0m\u001b[0m\n\u001b[0;32m---> 98\u001b[0;31m   \u001b[0;32mreturn\u001b[0m \u001b[0mops\u001b[0m\u001b[0;34m.\u001b[0m\u001b[0mEagerTensor\u001b[0m\u001b[0;34m(\u001b[0m\u001b[0mvalue\u001b[0m\u001b[0;34m,\u001b[0m \u001b[0mctx\u001b[0m\u001b[0;34m.\u001b[0m\u001b[0mdevice_name\u001b[0m\u001b[0;34m,\u001b[0m \u001b[0mdtype\u001b[0m\u001b[0;34m)\u001b[0m\u001b[0;34m\u001b[0m\u001b[0;34m\u001b[0m\u001b[0m\n\u001b[0m\u001b[1;32m     99\u001b[0m \u001b[0;34m\u001b[0m\u001b[0m\n\u001b[1;32m    100\u001b[0m \u001b[0;34m\u001b[0m\u001b[0m\n",
            "\u001b[0;31mValueError\u001b[0m: Failed to convert a NumPy array to a Tensor (Unsupported object type list)."
          ]
        }
      ]
    },
    {
      "cell_type": "code",
      "metadata": {
        "id": "NKW0Lp4RNeNW"
      },
      "source": [
        "y_train"
      ],
      "execution_count": null,
      "outputs": []
    },
    {
      "cell_type": "code",
      "metadata": {
        "id": "eAN4ll9yyKDE"
      },
      "source": [
        ""
      ],
      "execution_count": null,
      "outputs": []
    }
  ]
}